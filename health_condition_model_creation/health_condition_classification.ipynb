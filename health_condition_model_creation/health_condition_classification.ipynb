{
 "cells": [
  {
   "cell_type": "code",
   "execution_count": 24,
   "metadata": {},
   "outputs": [],
   "source": [
    "import pandas as pd\n",
    "import mlflow\n",
    "import mlflow.sklearn\n",
    "import numpy as np\n",
    "import matplotlib.pyplot as plt\n",
    "import seaborn as sns\n",
    "import xgboost as xgb\n",
    "from sklearn.svm import SVC\n",
    "from sklearn.preprocessing import MinMaxScaler\n",
    "from sklearn.linear_model import LogisticRegression\n",
    "from sklearn.tree import DecisionTreeClassifier\n",
    "from sklearn.ensemble import RandomForestClassifier\n",
    "from sklearn.metrics import accuracy_score, confusion_matrix, classification_report\n",
    "from sklearn.model_selection import GridSearchCV, RandomizedSearchCV,train_test_split"
   ]
  },
  {
   "cell_type": "code",
   "execution_count": 10,
   "metadata": {},
   "outputs": [
    {
     "data": {
      "application/vnd.microsoft.datawrangler.viewer.v0+json": {
       "columns": [
        {
         "name": "index",
         "rawType": "int64",
         "type": "integer"
        },
        {
         "name": "heart_rate",
         "rawType": "float64",
         "type": "float"
        },
        {
         "name": "oxygen_saturation",
         "rawType": "float64",
         "type": "float"
        },
        {
         "name": "healthcare_target",
         "rawType": "int64",
         "type": "integer"
        }
       ],
       "conversionMethod": "pd.DataFrame",
       "ref": "1f362a98-deb4-479f-bcc1-a250a98e759f",
       "rows": [
        [
         "0",
         "62.9232624810806",
         "97.66145937975728",
         "1"
        ],
        [
         "1",
         "84.89373058468985",
         "95.51632504437524",
         "0"
        ],
        [
         "2",
         "99.24711347049178",
         "95.8626193847318",
         "1"
        ],
        [
         "3",
         "67.60430599134911",
         "97.8398714865804",
         "0"
        ],
        [
         "4",
         "91.70380465153534",
         "96.48178806756644",
         "1"
        ]
       ],
       "shape": {
        "columns": 3,
        "rows": 5
       }
      },
      "text/html": [
       "<div>\n",
       "<style scoped>\n",
       "    .dataframe tbody tr th:only-of-type {\n",
       "        vertical-align: middle;\n",
       "    }\n",
       "\n",
       "    .dataframe tbody tr th {\n",
       "        vertical-align: top;\n",
       "    }\n",
       "\n",
       "    .dataframe thead th {\n",
       "        text-align: right;\n",
       "    }\n",
       "</style>\n",
       "<table border=\"1\" class=\"dataframe\">\n",
       "  <thead>\n",
       "    <tr style=\"text-align: right;\">\n",
       "      <th></th>\n",
       "      <th>heart_rate</th>\n",
       "      <th>oxygen_saturation</th>\n",
       "      <th>healthcare_target</th>\n",
       "    </tr>\n",
       "  </thead>\n",
       "  <tbody>\n",
       "    <tr>\n",
       "      <th>0</th>\n",
       "      <td>62.923262</td>\n",
       "      <td>97.661459</td>\n",
       "      <td>1</td>\n",
       "    </tr>\n",
       "    <tr>\n",
       "      <th>1</th>\n",
       "      <td>84.893731</td>\n",
       "      <td>95.516325</td>\n",
       "      <td>0</td>\n",
       "    </tr>\n",
       "    <tr>\n",
       "      <th>2</th>\n",
       "      <td>99.247113</td>\n",
       "      <td>95.862619</td>\n",
       "      <td>1</td>\n",
       "    </tr>\n",
       "    <tr>\n",
       "      <th>3</th>\n",
       "      <td>67.604306</td>\n",
       "      <td>97.839871</td>\n",
       "      <td>0</td>\n",
       "    </tr>\n",
       "    <tr>\n",
       "      <th>4</th>\n",
       "      <td>91.703805</td>\n",
       "      <td>96.481788</td>\n",
       "      <td>1</td>\n",
       "    </tr>\n",
       "  </tbody>\n",
       "</table>\n",
       "</div>"
      ],
      "text/plain": [
       "   heart_rate  oxygen_saturation  healthcare_target\n",
       "0   62.923262          97.661459                  1\n",
       "1   84.893731          95.516325                  0\n",
       "2   99.247113          95.862619                  1\n",
       "3   67.604306          97.839871                  0\n",
       "4   91.703805          96.481788                  1"
      ]
     },
     "execution_count": 10,
     "metadata": {},
     "output_type": "execute_result"
    }
   ],
   "source": [
    "# Loanding the data\n",
    "basic_data = pd.read_csv(\"Datasets\\Analyzed\\Analyzed_Health_Condition_Data_Base.csv\")\n",
    "basic_data.head()"
   ]
  },
  {
   "cell_type": "code",
   "execution_count": 11,
   "metadata": {},
   "outputs": [
    {
     "data": {
      "application/vnd.microsoft.datawrangler.viewer.v0+json": {
       "columns": [
        {
         "name": "index",
         "rawType": "int64",
         "type": "integer"
        },
        {
         "name": "heart_rate",
         "rawType": "float64",
         "type": "float"
        },
        {
         "name": "oxygen_saturation",
         "rawType": "float64",
         "type": "float"
        },
        {
         "name": "healthcare_target",
         "rawType": "int64",
         "type": "integer"
        },
        {
         "name": "hr_o2_interaction",
         "rawType": "float64",
         "type": "float"
        },
        {
         "name": "hr_o2_ratio",
         "rawType": "float64",
         "type": "float"
        }
       ],
       "conversionMethod": "pd.DataFrame",
       "ref": "d70e9d08-1728-45ff-9f53-46278750c5eb",
       "rows": [
        [
         "0",
         "62.9232624810806",
         "97.66145937975728",
         "1",
         "6145.177642837858",
         "0.6442998382443073"
        ],
        [
         "1",
         "84.89373058468985",
         "95.51632504437524",
         "0",
         "8108.737164756855",
         "0.8887876553589105"
        ],
        [
         "2",
         "99.24711347049178",
         "95.8626193847318",
         "1",
         "9514.08826365504",
         "1.0353056708389825"
        ],
        [
         "3",
         "67.60430599134911",
         "97.8398714865804",
         "0",
         "6614.396610133054",
         "0.6909688756144945"
        ],
        [
         "4",
         "91.70380465153534",
         "96.48178806756644",
         "1",
         "8847.747045378946",
         "0.9504778724386298"
        ]
       ],
       "shape": {
        "columns": 5,
        "rows": 5
       }
      },
      "text/html": [
       "<div>\n",
       "<style scoped>\n",
       "    .dataframe tbody tr th:only-of-type {\n",
       "        vertical-align: middle;\n",
       "    }\n",
       "\n",
       "    .dataframe tbody tr th {\n",
       "        vertical-align: top;\n",
       "    }\n",
       "\n",
       "    .dataframe thead th {\n",
       "        text-align: right;\n",
       "    }\n",
       "</style>\n",
       "<table border=\"1\" class=\"dataframe\">\n",
       "  <thead>\n",
       "    <tr style=\"text-align: right;\">\n",
       "      <th></th>\n",
       "      <th>heart_rate</th>\n",
       "      <th>oxygen_saturation</th>\n",
       "      <th>healthcare_target</th>\n",
       "      <th>hr_o2_interaction</th>\n",
       "      <th>hr_o2_ratio</th>\n",
       "    </tr>\n",
       "  </thead>\n",
       "  <tbody>\n",
       "    <tr>\n",
       "      <th>0</th>\n",
       "      <td>62.923262</td>\n",
       "      <td>97.661459</td>\n",
       "      <td>1</td>\n",
       "      <td>6145.177643</td>\n",
       "      <td>0.644300</td>\n",
       "    </tr>\n",
       "    <tr>\n",
       "      <th>1</th>\n",
       "      <td>84.893731</td>\n",
       "      <td>95.516325</td>\n",
       "      <td>0</td>\n",
       "      <td>8108.737165</td>\n",
       "      <td>0.888788</td>\n",
       "    </tr>\n",
       "    <tr>\n",
       "      <th>2</th>\n",
       "      <td>99.247113</td>\n",
       "      <td>95.862619</td>\n",
       "      <td>1</td>\n",
       "      <td>9514.088264</td>\n",
       "      <td>1.035306</td>\n",
       "    </tr>\n",
       "    <tr>\n",
       "      <th>3</th>\n",
       "      <td>67.604306</td>\n",
       "      <td>97.839871</td>\n",
       "      <td>0</td>\n",
       "      <td>6614.396610</td>\n",
       "      <td>0.690969</td>\n",
       "    </tr>\n",
       "    <tr>\n",
       "      <th>4</th>\n",
       "      <td>91.703805</td>\n",
       "      <td>96.481788</td>\n",
       "      <td>1</td>\n",
       "      <td>8847.747045</td>\n",
       "      <td>0.950478</td>\n",
       "    </tr>\n",
       "  </tbody>\n",
       "</table>\n",
       "</div>"
      ],
      "text/plain": [
       "   heart_rate  oxygen_saturation  healthcare_target  hr_o2_interaction  \\\n",
       "0   62.923262          97.661459                  1        6145.177643   \n",
       "1   84.893731          95.516325                  0        8108.737165   \n",
       "2   99.247113          95.862619                  1        9514.088264   \n",
       "3   67.604306          97.839871                  0        6614.396610   \n",
       "4   91.703805          96.481788                  1        8847.747045   \n",
       "\n",
       "   hr_o2_ratio  \n",
       "0     0.644300  \n",
       "1     0.888788  \n",
       "2     1.035306  \n",
       "3     0.690969  \n",
       "4     0.950478  "
      ]
     },
     "execution_count": 11,
     "metadata": {},
     "output_type": "execute_result"
    }
   ],
   "source": [
    "enhanced_data = pd.read_csv(\"Datasets\\Analyzed\\Analyzed_Health_Condition_Data_added_features.csv\")\n",
    "enhanced_data.head()"
   ]
  },
  {
   "cell_type": "markdown",
   "metadata": {},
   "source": [
    "### Running baseline LR with basic Data"
   ]
  },
  {
   "cell_type": "code",
   "execution_count": 12,
   "metadata": {},
   "outputs": [
    {
     "name": "stdout",
     "output_type": "stream",
     "text": [
      "Accuracy: 0.6950\n",
      "              precision    recall  f1-score   support\n",
      "\n",
      "           0       0.72      0.72      0.72       110\n",
      "           1       0.66      0.67      0.66        90\n",
      "\n",
      "    accuracy                           0.69       200\n",
      "   macro avg       0.69      0.69      0.69       200\n",
      "weighted avg       0.70      0.69      0.70       200\n",
      "\n"
     ]
    },
    {
     "name": "stderr",
     "output_type": "stream",
     "text": [
      "2025/04/01 20:55:24 WARNING mlflow.models.model: Model logged without a signature and input example. Please set `input_example` parameter when logging the model to auto infer the model signature.\n"
     ]
    }
   ],
   "source": [
    "# Features & Target\n",
    "X = features = basic_data.drop('healthcare_target',axis=1)\n",
    "y = basic_data['healthcare_target']\n",
    "\n",
    "# Splitting the data\n",
    "X_train, X_test, y_train, y_test = train_test_split(X, y, test_size=0.2, random_state=42)\n",
    "\n",
    "\n",
    "mlflow.set_experiment(\"Healthcare Condition Prediction\")\n",
    "mlflow.sklearn.autolog() # For auto log metrics\n",
    "\n",
    "# ML Flow for model tracking\n",
    "with mlflow.start_run(run_name=\"Baseline LR - without feature eng\"):\n",
    "\n",
    "    model = LogisticRegression()\n",
    "    model.fit(X_train, y_train)\n",
    "\n",
    "    # Predictions\n",
    "    y_pred = model.predict(X_test)\n",
    "\n",
    "    # Evaluate Model\n",
    "    accuracy = accuracy_score(y_test, y_pred)\n",
    "    print(f\"Accuracy: {accuracy:.4f}\")\n",
    "    print(classification_report(y_test, y_pred))\n",
    "\n",
    "    # Model artifacts\n",
    "    report_text = classification_report(y_test, y_pred)\n",
    "    with open(\"classification_report.txt\", \"w\") as f:\n",
    "        f.write(report_text)\n",
    "    mlflow.log_artifact(\"classification_report.txt\")\n",
    "\n",
    "    # Save Model in MLflow\n",
    "    mlflow.sklearn.log_model(model, \"baseline_lr_without_feature_eng\")\n"
   ]
  },
  {
   "cell_type": "markdown",
   "metadata": {},
   "source": [
    "### Running baseline LR with added features Data"
   ]
  },
  {
   "cell_type": "code",
   "execution_count": 13,
   "metadata": {},
   "outputs": [
    {
     "name": "stdout",
     "output_type": "stream",
     "text": [
      "Accuracy: 0.7000\n",
      "              precision    recall  f1-score   support\n",
      "\n",
      "           0       0.73      0.72      0.72       110\n",
      "           1       0.66      0.68      0.67        90\n",
      "\n",
      "    accuracy                           0.70       200\n",
      "   macro avg       0.70      0.70      0.70       200\n",
      "weighted avg       0.70      0.70      0.70       200\n",
      "\n"
     ]
    },
    {
     "name": "stderr",
     "output_type": "stream",
     "text": [
      "2025/04/01 20:55:32 WARNING mlflow.models.model: Model logged without a signature and input example. Please set `input_example` parameter when logging the model to auto infer the model signature.\n"
     ]
    }
   ],
   "source": [
    "# Features & Target\n",
    "X = features = enhanced_data.drop('healthcare_target',axis=1)\n",
    "y = enhanced_data['healthcare_target']\n",
    "\n",
    "# Splitting the data\n",
    "X_train, X_test, y_train, y_test = train_test_split(X, y, test_size=0.2, random_state=42)\n",
    "\n",
    "mlflow.set_experiment(\"Healthcare Condition Prediction\")\n",
    "mlflow.sklearn.autolog() # For auto log metrics\n",
    "\n",
    "# ML Flow for model tracking\n",
    "with mlflow.start_run(run_name=\"Baseline LR - Enhanced Data - without feature eng\"):\n",
    "\n",
    "    model = LogisticRegression()\n",
    "    model.fit(X_train, y_train)\n",
    "\n",
    "    # Predictions\n",
    "    y_pred = model.predict(X_test)\n",
    "\n",
    "    # Evaluate Model\n",
    "    accuracy = accuracy_score(y_test, y_pred)\n",
    "    print(f\"Accuracy: {accuracy:.4f}\")\n",
    "    print(classification_report(y_test, y_pred))\n",
    "\n",
    "    # Model artifacts\n",
    "    report_text = classification_report(y_test, y_pred)\n",
    "    with open(\"classification_report.txt\", \"w\") as f:\n",
    "        f.write(report_text)\n",
    "    mlflow.log_artifact(\"classification_report.txt\")\n",
    "\n",
    "    # Save Model in MLflow\n",
    "    mlflow.sklearn.log_model(model, \"basic_lr_enhanced_data_without_feature_eng\")\n"
   ]
  },
  {
   "cell_type": "markdown",
   "metadata": {},
   "source": [
    "As enhanced data has a small improvement, we decided to continue with the basic 3 features we have in order to continue this model"
   ]
  },
  {
   "cell_type": "markdown",
   "metadata": {},
   "source": [
    "### Feature Engineering of the dataset's given medical features"
   ]
  },
  {
   "cell_type": "code",
   "execution_count": 14,
   "metadata": {},
   "outputs": [],
   "source": [
    "# Minmax Scaling the data\n",
    "scaler = MinMaxScaler()\n",
    "basic_data[['heart_rate', 'oxygen_saturation']] = scaler.fit_transform(basic_data[['heart_rate', 'oxygen_saturation']])"
   ]
  },
  {
   "cell_type": "code",
   "execution_count": 15,
   "metadata": {},
   "outputs": [
    {
     "data": {
      "application/vnd.microsoft.datawrangler.viewer.v0+json": {
       "columns": [
        {
         "name": "index",
         "rawType": "int64",
         "type": "integer"
        },
        {
         "name": "heart_rate",
         "rawType": "float64",
         "type": "float"
        },
        {
         "name": "oxygen_saturation",
         "rawType": "float64",
         "type": "float"
        },
        {
         "name": "healthcare_target",
         "rawType": "int64",
         "type": "integer"
        }
       ],
       "conversionMethod": "pd.DataFrame",
       "ref": "8dc03136-cb0d-409a-b6ae-e40bd2794e76",
       "rows": [
        [
         "0",
         "0.07310311107687495",
         "0.5334781968329274",
         "1"
        ],
        [
         "1",
         "0.6226142540872275",
         "0.10347034000337274",
         "0"
        ],
        [
         "2",
         "0.9816117865224394",
         "0.1728875716763767",
         "1"
        ],
        [
         "3",
         "0.1901823447863411",
         "0.569242207702576",
         "0"
        ],
        [
         "4",
         "0.7929434235345847",
         "0.29700445980323664",
         "1"
        ],
        [
         "5",
         "0.9082994647672196",
         "0.9404304418307952",
         "1"
        ],
        [
         "6",
         "0.9441185232069242",
         "0.8205815277601438",
         "1"
        ],
        [
         "7",
         "0.9605599980955895",
         "0.9857853892879511",
         "1"
        ],
        [
         "8",
         "0.5216848131384315",
         "0.26023379923535117",
         "0"
        ],
        [
         "9",
         "0.9777401002712816",
         "0.9719101616013717",
         "1"
        ],
        [
         "10",
         "0.7576424901748349",
         "0.4321891168729408",
         "1"
        ],
        [
         "11",
         "0.16173321728431467",
         "0.34828262400959886",
         "0"
        ],
        [
         "12",
         "0.47710504472356385",
         "0.05043386440353714",
         "0"
        ],
        [
         "13",
         "0.7186457565664262",
         "0.05285511897407602",
         "0"
        ],
        [
         "14",
         "0.247441002330286",
         "0.693562782569721",
         "0"
        ],
        [
         "15",
         "0.6408944709852353",
         "0.45894528115125155",
         "1"
        ],
        [
         "16",
         "0.6668915673840592",
         "0.22700878911417632",
         "0"
        ],
        [
         "17",
         "0.162761991849105",
         "0.6153433887113984",
         "0"
        ],
        [
         "18",
         "0.5653302989307651",
         "0.2534055009344094",
         "0"
        ],
        [
         "19",
         "0.7719656957732763",
         "0.5789217469526022",
         "1"
        ],
        [
         "20",
         "0.49911059180263817",
         "0.3599993052931154",
         "0"
        ],
        [
         "21",
         "0.012096973217999407",
         "0.8254045277416644",
         "1"
        ],
        [
         "22",
         "0.009030933749273773",
         "0.8225419313701146",
         "0"
        ],
        [
         "23",
         "0.357179844398944",
         "0.4784110927764509",
         "0"
        ],
        [
         "24",
         "0.9266030479924618",
         "0.35159048435135176",
         "1"
        ],
        [
         "25",
         "0.22876899030029052",
         "0.3633580171992037",
         "0"
        ],
        [
         "26",
         "0.6346401372689192",
         "0.8075260400707371",
         "0"
        ],
        [
         "27",
         "0.22216508366872678",
         "0.32889909126188854",
         "1"
        ],
        [
         "28",
         "0.3218044320743263",
         "0.20950660853819159",
         "0"
        ],
        [
         "29",
         "0.8484155774059741",
         "0.08485119659626861",
         "1"
        ],
        [
         "30",
         "0.7291808056550557",
         "0.4677294471816751",
         "0"
        ],
        [
         "31",
         "0.09543096167789589",
         "0.4832037271536862",
         "1"
        ],
        [
         "32",
         "0.42888507067664094",
         "0.8428006979348375",
         "1"
        ],
        [
         "33",
         "0.029171370694098364",
         "0.2217137798615525",
         "0"
        ],
        [
         "34",
         "0.4810968968860623",
         "0.38183163873247494",
         "1"
        ],
        [
         "35",
         "0.6627232078888097",
         "0.8102234068795866",
         "0"
        ],
        [
         "36",
         "0.11854480006227885",
         "0.8254760751019532",
         "0"
        ],
        [
         "37",
         "0.28900449239796466",
         "0.38545971788806455",
         "1"
        ],
        [
         "38",
         "0.39800565805412114",
         "0.46014304249258586",
         "1"
        ],
        [
         "39",
         "0.9199369782776714",
         "0.303948578965457",
         "1"
        ],
        [
         "40",
         "0.9936944498846725",
         "0.9346564191485811",
         "1"
        ],
        [
         "41",
         "0.044920054868357706",
         "0.11888426110799699",
         "0"
        ],
        [
         "42",
         "0.761341885808015",
         "0.9358536951121152",
         "1"
        ],
        [
         "43",
         "0.37188124025802183",
         "0.6853993549875099",
         "0"
        ],
        [
         "44",
         "0.39262477622965974",
         "0.532756827887706",
         "0"
        ],
        [
         "45",
         "0.7545958734320963",
         "0.032702948150429734",
         "1"
        ],
        [
         "46",
         "0.9188318841299814",
         "0.47665287540230494",
         "1"
        ],
        [
         "47",
         "0.9513488069428282",
         "0.4086496507978552",
         "1"
        ],
        [
         "48",
         "0.5773730390954961",
         "0.16155665715177392",
         "1"
        ],
        [
         "49",
         "0.3572717014262332",
         "0.6578797253005639",
         "0"
        ]
       ],
       "shape": {
        "columns": 3,
        "rows": 1000
       }
      },
      "text/html": [
       "<div>\n",
       "<style scoped>\n",
       "    .dataframe tbody tr th:only-of-type {\n",
       "        vertical-align: middle;\n",
       "    }\n",
       "\n",
       "    .dataframe tbody tr th {\n",
       "        vertical-align: top;\n",
       "    }\n",
       "\n",
       "    .dataframe thead th {\n",
       "        text-align: right;\n",
       "    }\n",
       "</style>\n",
       "<table border=\"1\" class=\"dataframe\">\n",
       "  <thead>\n",
       "    <tr style=\"text-align: right;\">\n",
       "      <th></th>\n",
       "      <th>heart_rate</th>\n",
       "      <th>oxygen_saturation</th>\n",
       "      <th>healthcare_target</th>\n",
       "    </tr>\n",
       "  </thead>\n",
       "  <tbody>\n",
       "    <tr>\n",
       "      <th>0</th>\n",
       "      <td>0.073103</td>\n",
       "      <td>0.533478</td>\n",
       "      <td>1</td>\n",
       "    </tr>\n",
       "    <tr>\n",
       "      <th>1</th>\n",
       "      <td>0.622614</td>\n",
       "      <td>0.103470</td>\n",
       "      <td>0</td>\n",
       "    </tr>\n",
       "    <tr>\n",
       "      <th>2</th>\n",
       "      <td>0.981612</td>\n",
       "      <td>0.172888</td>\n",
       "      <td>1</td>\n",
       "    </tr>\n",
       "    <tr>\n",
       "      <th>3</th>\n",
       "      <td>0.190182</td>\n",
       "      <td>0.569242</td>\n",
       "      <td>0</td>\n",
       "    </tr>\n",
       "    <tr>\n",
       "      <th>4</th>\n",
       "      <td>0.792943</td>\n",
       "      <td>0.297004</td>\n",
       "      <td>1</td>\n",
       "    </tr>\n",
       "    <tr>\n",
       "      <th>...</th>\n",
       "      <td>...</td>\n",
       "      <td>...</td>\n",
       "      <td>...</td>\n",
       "    </tr>\n",
       "    <tr>\n",
       "      <th>995</th>\n",
       "      <td>0.067253</td>\n",
       "      <td>0.955552</td>\n",
       "      <td>1</td>\n",
       "    </tr>\n",
       "    <tr>\n",
       "      <th>996</th>\n",
       "      <td>0.595106</td>\n",
       "      <td>0.060334</td>\n",
       "      <td>0</td>\n",
       "    </tr>\n",
       "    <tr>\n",
       "      <th>997</th>\n",
       "      <td>0.739191</td>\n",
       "      <td>0.298300</td>\n",
       "      <td>0</td>\n",
       "    </tr>\n",
       "    <tr>\n",
       "      <th>998</th>\n",
       "      <td>0.032447</td>\n",
       "      <td>0.298717</td>\n",
       "      <td>0</td>\n",
       "    </tr>\n",
       "    <tr>\n",
       "      <th>999</th>\n",
       "      <td>0.659005</td>\n",
       "      <td>0.321103</td>\n",
       "      <td>0</td>\n",
       "    </tr>\n",
       "  </tbody>\n",
       "</table>\n",
       "<p>1000 rows × 3 columns</p>\n",
       "</div>"
      ],
      "text/plain": [
       "     heart_rate  oxygen_saturation  healthcare_target\n",
       "0      0.073103           0.533478                  1\n",
       "1      0.622614           0.103470                  0\n",
       "2      0.981612           0.172888                  1\n",
       "3      0.190182           0.569242                  0\n",
       "4      0.792943           0.297004                  1\n",
       "..          ...                ...                ...\n",
       "995    0.067253           0.955552                  1\n",
       "996    0.595106           0.060334                  0\n",
       "997    0.739191           0.298300                  0\n",
       "998    0.032447           0.298717                  0\n",
       "999    0.659005           0.321103                  0\n",
       "\n",
       "[1000 rows x 3 columns]"
      ]
     },
     "execution_count": 15,
     "metadata": {},
     "output_type": "execute_result"
    }
   ],
   "source": [
    "basic_data"
   ]
  },
  {
   "cell_type": "markdown",
   "metadata": {},
   "source": [
    "### Checking the LR with scaled data and hyperparameter tuned"
   ]
  },
  {
   "cell_type": "code",
   "execution_count": 16,
   "metadata": {},
   "outputs": [
    {
     "name": "stderr",
     "output_type": "stream",
     "text": [
      "2025/04/01 20:55:32 INFO mlflow.utils.autologging_utils: Created MLflow autologging run with ID '7c750356c90a474a94ef5842b56dc073', which will track hyperparameters, performance metrics, model artifacts, and lineage information for the current sklearn workflow\n"
     ]
    },
    {
     "name": "stderr",
     "output_type": "stream",
     "text": [
      "2025/04/01 20:55:45 INFO mlflow.sklearn.utils: Logging the 5 best runs, 67 runs will be omitted.\n"
     ]
    },
    {
     "name": "stdout",
     "output_type": "stream",
     "text": [
      "Best Parameters: {'C': 1, 'max_iter': 100, 'penalty': 'l1', 'solver': 'liblinear'}\n",
      "Accuracy: 0.7000\n",
      "              precision    recall  f1-score   support\n",
      "\n",
      "           0       0.73      0.72      0.72       110\n",
      "           1       0.66      0.68      0.67        90\n",
      "\n",
      "    accuracy                           0.70       200\n",
      "   macro avg       0.70      0.70      0.70       200\n",
      "weighted avg       0.70      0.70      0.70       200\n",
      "\n"
     ]
    },
    {
     "name": "stderr",
     "output_type": "stream",
     "text": [
      "2025/04/01 20:55:52 WARNING mlflow.models.model: Model logged without a signature and input example. Please set `input_example` parameter when logging the model to auto infer the model signature.\n"
     ]
    }
   ],
   "source": [
    "# Features & Target\n",
    "X = features = basic_data.drop('healthcare_target',axis=1)\n",
    "y = basic_data['healthcare_target']\n",
    "\n",
    "# Splitting the data\n",
    "X_train, X_test, y_train, y_test = train_test_split(X, y, test_size=0.2, random_state=42)\n",
    "\n",
    "\n",
    "# Parameter Grid\n",
    "param_grid = {\n",
    "    'C': [0.001, 0.01, 0.1, 1, 10, 100],\n",
    "    'penalty': ['l1', 'l2'],\n",
    "    'solver': ['liblinear', 'saga'],\n",
    "    'max_iter': [100, 500, 1000]\n",
    "}\n",
    "\n",
    "log_reg = LogisticRegression()\n",
    "grid_search = GridSearchCV(log_reg, param_grid, cv=5, scoring='accuracy', n_jobs=-1)\n",
    "grid_search.fit(X_train, y_train)\n",
    "\n",
    "# Best Parameters\n",
    "best_parameters = grid_search.best_params_\n",
    "print(\"Best Parameters:\", best_parameters)\n",
    "\n",
    "mlflow.set_experiment(\"Healthcare Condition Prediction\")\n",
    "mlflow.sklearn.autolog() # For auto log metrics\n",
    "\n",
    "# ML Flow for model tracking\n",
    "with mlflow.start_run(run_name=\"Parameter Tuned LR - Feature Engineered \"):\n",
    "\n",
    "    model = LogisticRegression(**best_parameters)\n",
    "    model.fit(X_train, y_train)\n",
    "\n",
    "    # Predictions\n",
    "    y_pred = model.predict(X_test)\n",
    "\n",
    "    # Evaluate Model\n",
    "    accuracy = accuracy_score(y_test, y_pred)\n",
    "    print(f\"Accuracy: {accuracy:.4f}\")\n",
    "    print(classification_report(y_test, y_pred))\n",
    "\n",
    "    # Model artifacts\n",
    "    report_text = classification_report(y_test, y_pred)\n",
    "    with open(\"classification_report.txt\", \"w\") as f:\n",
    "        f.write(report_text)\n",
    "    mlflow.log_artifact(\"classification_report.txt\")\n",
    "\n",
    "    # Save Model in MLflow\n",
    "    mlflow.sklearn.log_model(model, \"param_tuned_lr_with_feature_eng\")\n"
   ]
  },
  {
   "cell_type": "markdown",
   "metadata": {},
   "source": [
    "as there's no improvements with the LR lets try different other ML Models to fit these data to see any improvements"
   ]
  },
  {
   "cell_type": "markdown",
   "metadata": {},
   "source": [
    "### Base - Decision Tree Performance Testing"
   ]
  },
  {
   "cell_type": "code",
   "execution_count": 17,
   "metadata": {},
   "outputs": [
    {
     "name": "stdout",
     "output_type": "stream",
     "text": [
      "Accuracy: 0.6800\n",
      "              precision    recall  f1-score   support\n",
      "\n",
      "           0       0.73      0.65      0.69       110\n",
      "           1       0.63      0.71      0.67        90\n",
      "\n",
      "    accuracy                           0.68       200\n",
      "   macro avg       0.68      0.68      0.68       200\n",
      "weighted avg       0.69      0.68      0.68       200\n",
      "\n"
     ]
    },
    {
     "name": "stderr",
     "output_type": "stream",
     "text": [
      "2025/04/01 20:56:03 WARNING mlflow.models.model: Model logged without a signature and input example. Please set `input_example` parameter when logging the model to auto infer the model signature.\n"
     ]
    }
   ],
   "source": [
    "# Features & Target\n",
    "X = features = basic_data.drop('healthcare_target',axis=1)\n",
    "y = basic_data['healthcare_target']\n",
    "\n",
    "# Splitting the data\n",
    "X_train, X_test, y_train, y_test = train_test_split(X, y, test_size=0.2, random_state=42)\n",
    "\n",
    "mlflow.set_experiment(\"Healthcare Condition Prediction\")\n",
    "mlflow.sklearn.autolog() # For auto log metrics\n",
    "\n",
    "# ML Flow for model tracking\n",
    "with mlflow.start_run(run_name=\"Baseline Decision Tree - Not Tuned\"):\n",
    "\n",
    "    model = DecisionTreeClassifier(random_state=42)\n",
    "    model.fit(X_train, y_train)\n",
    "\n",
    "    # Predictions\n",
    "    y_pred = model.predict(X_test)\n",
    "\n",
    "    # Evaluate Model\n",
    "    accuracy = accuracy_score(y_test, y_pred)\n",
    "    print(f\"Accuracy: {accuracy:.4f}\")\n",
    "    print(classification_report(y_test, y_pred))\n",
    "\n",
    "    # Model artifacts\n",
    "    report_text = classification_report(y_test, y_pred)\n",
    "    with open(\"classification_report.txt\", \"w\") as f:\n",
    "        f.write(report_text)\n",
    "    mlflow.log_artifact(\"classification_report.txt\")\n",
    "\n",
    "    # Save Model in MLflow\n",
    "    mlflow.sklearn.log_model(model, \"decision_trees_not_tuned\")\n"
   ]
  },
  {
   "cell_type": "markdown",
   "metadata": {},
   "source": [
    "### Parameter Tuned - Decision Tree Performance Testing"
   ]
  },
  {
   "cell_type": "code",
   "execution_count": 18,
   "metadata": {},
   "outputs": [
    {
     "name": "stderr",
     "output_type": "stream",
     "text": [
      "2025/04/01 20:56:03 INFO mlflow.utils.autologging_utils: Created MLflow autologging run with ID 'b7305f244c7e40d397ffbda30c76d502', which will track hyperparameters, performance metrics, model artifacts, and lineage information for the current sklearn workflow\n",
      "2025/04/01 20:56:13 INFO mlflow.sklearn.utils: Logging the 5 best runs, 571 runs will be omitted.\n"
     ]
    },
    {
     "name": "stdout",
     "output_type": "stream",
     "text": [
      "Best Hyperparameters: {'criterion': 'gini', 'max_depth': 10, 'max_features': None, 'min_samples_leaf': 4, 'min_samples_split': 2}\n",
      "Accuracy: 0.7450\n",
      "              precision    recall  f1-score   support\n",
      "\n",
      "           0       0.74      0.82      0.78       110\n",
      "           1       0.75      0.66      0.70        90\n",
      "\n",
      "    accuracy                           0.74       200\n",
      "   macro avg       0.75      0.74      0.74       200\n",
      "weighted avg       0.75      0.74      0.74       200\n",
      "\n"
     ]
    },
    {
     "name": "stderr",
     "output_type": "stream",
     "text": [
      "2025/04/01 20:56:20 WARNING mlflow.models.model: Model logged without a signature and input example. Please set `input_example` parameter when logging the model to auto infer the model signature.\n"
     ]
    }
   ],
   "source": [
    "# Features & Target\n",
    "X = features = basic_data.drop('healthcare_target',axis=1)\n",
    "y = basic_data['healthcare_target']\n",
    "\n",
    "# Splitting the data\n",
    "X_train, X_test, y_train, y_test = train_test_split(X, y, test_size=0.2, random_state=42)\n",
    "\n",
    "# Parameter Grid for tuning\n",
    "param_grid = {\n",
    "    'max_depth': [None, 10, 20, 30, 40, 50],\n",
    "    'min_samples_split': [2, 5, 10, 20],\n",
    "    'min_samples_leaf': [1, 2, 4, 10],\n",
    "    'max_features': [None, 'sqrt', 'log2'],\n",
    "    'criterion': ['gini', 'entropy'],\n",
    "}\n",
    "\n",
    "# Grid search for find best parameters\n",
    "dt = DecisionTreeClassifier(random_state=42)\n",
    "grid_search = GridSearchCV(estimator=dt, param_grid=param_grid, cv=5, n_jobs=-1, scoring='accuracy')\n",
    "grid_search.fit(X_train, y_train)\n",
    "\n",
    "# Best parameters found by GridSearchCV\n",
    "best_parameters = grid_search.best_params_\n",
    "print(f\"Best Hyperparameters: {best_parameters}\")\n",
    "\n",
    "mlflow.set_experiment(\"Healthcare Condition Prediction\")\n",
    "mlflow.sklearn.autolog() # For auto log metrics\n",
    "\n",
    "# ML Flow for model tracking\n",
    "with mlflow.start_run(run_name=\"Decision Tree - Tuned\"):\n",
    "    \n",
    "    model = DecisionTreeClassifier(random_state=42,**best_parameters)\n",
    "    model.fit(X_train, y_train)\n",
    "\n",
    "    # Predictions\n",
    "    y_pred = model.predict(X_test)\n",
    "\n",
    "    # Evaluate Model\n",
    "    accuracy = accuracy_score(y_test, y_pred)\n",
    "    print(f\"Accuracy: {accuracy:.4f}\")\n",
    "    print(classification_report(y_test, y_pred))\n",
    "\n",
    "    # Model artifacts\n",
    "    report_text = classification_report(y_test, y_pred)\n",
    "    with open(\"classification_report.txt\", \"w\") as f:\n",
    "        f.write(report_text)\n",
    "    mlflow.log_artifact(\"classification_report.txt\")\n",
    "\n",
    "    # Save Model in MLflow\n",
    "    mlflow.sklearn.log_model(model, \"decision_trees_tuned\")\n"
   ]
  },
  {
   "cell_type": "markdown",
   "metadata": {},
   "source": [
    "### Base - Random Forest Performance Testing"
   ]
  },
  {
   "cell_type": "code",
   "execution_count": 19,
   "metadata": {},
   "outputs": [
    {
     "name": "stdout",
     "output_type": "stream",
     "text": [
      "Accuracy: 0.6700\n",
      "              precision    recall  f1-score   support\n",
      "\n",
      "           0       0.71      0.68      0.69       110\n",
      "           1       0.63      0.66      0.64        90\n",
      "\n",
      "    accuracy                           0.67       200\n",
      "   macro avg       0.67      0.67      0.67       200\n",
      "weighted avg       0.67      0.67      0.67       200\n",
      "\n"
     ]
    },
    {
     "name": "stderr",
     "output_type": "stream",
     "text": [
      "2025/04/01 20:56:29 WARNING mlflow.models.model: Model logged without a signature and input example. Please set `input_example` parameter when logging the model to auto infer the model signature.\n"
     ]
    }
   ],
   "source": [
    "# Features & Target\n",
    "X = features = basic_data.drop('healthcare_target',axis=1)\n",
    "y = basic_data['healthcare_target']\n",
    "\n",
    "# Splitting the data\n",
    "X_train, X_test, y_train, y_test = train_test_split(X, y, test_size=0.2, random_state=42)\n",
    "\n",
    "mlflow.set_experiment(\"Healthcare Condition Prediction\")\n",
    "mlflow.sklearn.autolog() # For auto log metrics\n",
    "\n",
    "# ML Flow for model tracking\n",
    "with mlflow.start_run(run_name=\"Baseline Random Forest - Not Tuned\"):\n",
    "\n",
    "    model = RandomForestClassifier(random_state=42)\n",
    "    model.fit(X_train, y_train)\n",
    "\n",
    "    # Predictions\n",
    "    y_pred = model.predict(X_test)\n",
    "\n",
    "    # Evaluate Model\n",
    "    accuracy = accuracy_score(y_test, y_pred)\n",
    "    print(f\"Accuracy: {accuracy:.4f}\")\n",
    "    print(classification_report(y_test, y_pred))\n",
    "\n",
    "    # Model artifacts\n",
    "    report_text = classification_report(y_test, y_pred)\n",
    "    with open(\"classification_report.txt\", \"w\") as f:\n",
    "        f.write(report_text)\n",
    "    mlflow.log_artifact(\"classification_report.txt\")\n",
    "\n",
    "    # Save Model in MLflow\n",
    "    mlflow.sklearn.log_model(model, \"random_forest_not_tuned\")\n"
   ]
  },
  {
   "cell_type": "markdown",
   "metadata": {},
   "source": [
    "### Parameter Tuned - Random Forest Performance Testing"
   ]
  },
  {
   "cell_type": "code",
   "execution_count": 20,
   "metadata": {},
   "outputs": [
    {
     "name": "stdout",
     "output_type": "stream",
     "text": [
      "Fitting 5 folds for each of 20 candidates, totalling 100 fits\n"
     ]
    },
    {
     "name": "stderr",
     "output_type": "stream",
     "text": [
      "2025/04/01 20:56:41 INFO mlflow.sklearn.utils: Logging the 5 best runs, 15 runs will be omitted.\n"
     ]
    },
    {
     "name": "stdout",
     "output_type": "stream",
     "text": [
      "Accuracy: 0.7300\n",
      "              precision    recall  f1-score   support\n",
      "\n",
      "           0       0.73      0.82      0.77       110\n",
      "           1       0.74      0.62      0.67        90\n",
      "\n",
      "    accuracy                           0.73       200\n",
      "   macro avg       0.73      0.72      0.72       200\n",
      "weighted avg       0.73      0.73      0.73       200\n",
      "\n"
     ]
    },
    {
     "name": "stderr",
     "output_type": "stream",
     "text": [
      "2025/04/01 20:56:44 WARNING mlflow.models.model: Model logged without a signature and input example. Please set `input_example` parameter when logging the model to auto infer the model signature.\n"
     ]
    }
   ],
   "source": [
    "# Features & Target\n",
    "X = features = basic_data.drop('healthcare_target',axis=1)\n",
    "y = basic_data['healthcare_target']\n",
    "\n",
    "# Splitting the data\n",
    "X_train, X_test, y_train, y_test = train_test_split(X, y, test_size=0.2, random_state=42)\n",
    "\n",
    "mlflow.set_experiment(\"Healthcare Condition Prediction\")\n",
    "mlflow.sklearn.autolog() # For auto log metrics\n",
    "\n",
    "param_grid = {\n",
    "    \"n_estimators\": [50, 100, 200, 300], \n",
    "    \"max_depth\": [None, 10, 20, 30],  \n",
    "    \"min_samples_split\": [2, 5, 10],\n",
    "    \"min_samples_leaf\": [1, 2, 4],  \n",
    "    \"bootstrap\": [True, False]\n",
    "}\n",
    "\n",
    "rf = RandomForestClassifier(random_state=42)\n",
    "\n",
    "# Perform Randomized Search\n",
    "rf_search = RandomizedSearchCV(\n",
    "    estimator=rf,\n",
    "    param_distributions=param_grid,\n",
    "    n_iter=20, \n",
    "    cv=5,\n",
    "    verbose=2,\n",
    "    random_state=42,\n",
    "    n_jobs=-1 \n",
    ")\n",
    "\n",
    "# ML Flow for model tracking\n",
    "with mlflow.start_run(run_name=\"Random Forest - Tuned\"):\n",
    "\n",
    "    # Fit model with hyperparameter search\n",
    "    rf_search.fit(X_train, y_train) \n",
    "\n",
    "    best_model = rf_search.best_estimator_\n",
    "    \n",
    "    # Predictions\n",
    "    y_pred = best_model.predict(X_test)\n",
    "\n",
    "    # Evaluate Model\n",
    "    accuracy = accuracy_score(y_test, y_pred)\n",
    "    print(f\"Accuracy: {accuracy:.4f}\")\n",
    "    print(classification_report(y_test, y_pred))\n",
    "\n",
    "    # Model artifacts\n",
    "    report_text = classification_report(y_test, y_pred)\n",
    "    with open(\"classification_report.txt\", \"w\") as f:\n",
    "        f.write(report_text)\n",
    "    mlflow.log_artifact(\"classification_report.txt\")\n",
    "\n",
    "    # Save Model in MLflow\n",
    "    mlflow.sklearn.log_model(model, \"random_forest_tuned\")\n"
   ]
  },
  {
   "cell_type": "markdown",
   "metadata": {},
   "source": [
    "### Base - Support Vector Machine - Performance Testing"
   ]
  },
  {
   "cell_type": "code",
   "execution_count": 21,
   "metadata": {},
   "outputs": [
    {
     "name": "stdout",
     "output_type": "stream",
     "text": [
      "Accuracy: 0.8000\n",
      "              precision    recall  f1-score   support\n",
      "\n",
      "           0       0.75      0.96      0.84       110\n",
      "           1       0.93      0.60      0.73        90\n",
      "\n",
      "    accuracy                           0.80       200\n",
      "   macro avg       0.84      0.78      0.79       200\n",
      "weighted avg       0.83      0.80      0.79       200\n",
      "\n"
     ]
    },
    {
     "name": "stderr",
     "output_type": "stream",
     "text": [
      "2025/04/01 20:56:51 WARNING mlflow.models.model: Model logged without a signature and input example. Please set `input_example` parameter when logging the model to auto infer the model signature.\n"
     ]
    }
   ],
   "source": [
    "# Features & Target\n",
    "X = features = basic_data.drop('healthcare_target',axis=1)\n",
    "y = basic_data['healthcare_target']\n",
    "\n",
    "# Splitting the data\n",
    "X_train, X_test, y_train, y_test = train_test_split(X, y, test_size=0.2, random_state=42)\n",
    "\n",
    "mlflow.set_experiment(\"Healthcare Condition Prediction\")\n",
    "mlflow.sklearn.autolog() # For auto log metrics\n",
    "\n",
    "# ML Flow for model tracking\n",
    "with mlflow.start_run(run_name=\"Baseline SVM - Not Tuned\"):\n",
    "\n",
    "    model = SVC(kernel='rbf', C=1.0, gamma='scale', probability=True)\n",
    "    model.fit(X_train, y_train)\n",
    "\n",
    "    # Predictions\n",
    "    y_pred = model.predict(X_test)\n",
    "\n",
    "    # Evaluate Model\n",
    "    accuracy = accuracy_score(y_test, y_pred)\n",
    "    print(f\"Accuracy: {accuracy:.4f}\")\n",
    "    print(classification_report(y_test, y_pred))\n",
    "\n",
    "    # Model artifacts\n",
    "    report_text = classification_report(y_test, y_pred)\n",
    "    with open(\"classification_report.txt\", \"w\") as f:\n",
    "        f.write(report_text)\n",
    "    mlflow.log_artifact(\"classification_report.txt\")\n",
    "\n",
    "    # Save Model in MLflow\n",
    "    mlflow.sklearn.log_model(model, \"SVM_not_tuned\")\n"
   ]
  },
  {
   "cell_type": "code",
   "execution_count": 22,
   "metadata": {},
   "outputs": [
    {
     "name": "stderr",
     "output_type": "stream",
     "text": [
      "2025/04/01 20:56:51 INFO mlflow.utils.autologging_utils: Created MLflow autologging run with ID '6f00e43d82ea4a54a2126cd033ad585b', which will track hyperparameters, performance metrics, model artifacts, and lineage information for the current sklearn workflow\n",
      "2025/04/01 20:57:00 INFO mlflow.sklearn.utils: Logging the 5 best runs, 19 runs will be omitted.\n"
     ]
    },
    {
     "name": "stdout",
     "output_type": "stream",
     "text": [
      "Accuracy: 0.8050\n",
      "              precision    recall  f1-score   support\n",
      "\n",
      "           0       0.74      0.99      0.85       110\n",
      "           1       0.98      0.58      0.73        90\n",
      "\n",
      "    accuracy                           0.81       200\n",
      "   macro avg       0.86      0.78      0.79       200\n",
      "weighted avg       0.85      0.81      0.79       200\n",
      "\n"
     ]
    },
    {
     "name": "stderr",
     "output_type": "stream",
     "text": [
      "2025/04/01 20:57:06 WARNING mlflow.models.model: Model logged without a signature and input example. Please set `input_example` parameter when logging the model to auto infer the model signature.\n"
     ]
    }
   ],
   "source": [
    "# Features & Target\n",
    "X = basic_data.drop('healthcare_target', axis=1)\n",
    "y = enhanced_data['healthcare_target']\n",
    "\n",
    "# Splitting the data\n",
    "X_train, X_test, y_train, y_test = train_test_split(X, y, test_size=0.2, random_state=42)\n",
    "\n",
    "# Hyperparameter grid\n",
    "param_grid = {\n",
    "    'C': [0.1, 1, 10],\n",
    "    'gamma': ['scale', 'auto', 0.01, 0.1],\n",
    "    'kernel': ['rbf', 'sigmoid']\n",
    "}\n",
    "\n",
    "# Perform Grid Search\n",
    "grid_search = GridSearchCV(SVC(probability=True), param_grid, cv=5, scoring='accuracy', n_jobs=-1)\n",
    "grid_search.fit(X_train, y_train)\n",
    "\n",
    "best_parameters = grid_search.best_params_\n",
    "\n",
    "mlflow.set_experiment(\"Healthcare Condition Prediction\")\n",
    "mlflow.sklearn.autolog()  # Enable auto logging\n",
    "\n",
    "# ML Flow for model tracking\n",
    "with mlflow.start_run(run_name=\"SVM - Tuned\"):\n",
    "\n",
    "    # model\n",
    "    model = SVC(**best_parameters)\n",
    "\n",
    "    model.fit(X_train, y_train) \n",
    "\n",
    "    # Predictions\n",
    "    y_pred = model.predict(X_test)\n",
    "\n",
    "    # Evaluate Model\n",
    "    accuracy = accuracy_score(y_test, y_pred)\n",
    "    print(f\"Accuracy: {accuracy:.4f}\")\n",
    "    print(classification_report(y_test, y_pred))\n",
    "\n",
    "    # Save classification report\n",
    "    report_text = classification_report(y_test, y_pred)\n",
    "    with open(\"classification_report.txt\", \"w\") as f:\n",
    "        f.write(report_text)\n",
    "    mlflow.log_artifact(\"classification_report.txt\")\n",
    "\n",
    "    # Save Model in MLflow\n",
    "    mlflow.sklearn.log_model(model, \"SVM_tuned\")\n"
   ]
  },
  {
   "cell_type": "markdown",
   "metadata": {},
   "source": [
    "### XG-Boost Performance Testing"
   ]
  },
  {
   "cell_type": "code",
   "execution_count": 25,
   "metadata": {},
   "outputs": [
    {
     "name": "stderr",
     "output_type": "stream",
     "text": [
      "c:\\Users\\Sandin Maheeshakya\\AppData\\Local\\Programs\\Python\\Python311\\Lib\\site-packages\\xgboost\\training.py:183: UserWarning: [20:58:23] WARNING: C:\\actions-runner\\_work\\xgboost\\xgboost\\src\\learner.cc:738: \n",
      "Parameters: { \"use_label_encoder\" } are not used.\n",
      "\n",
      "  bst.update(dtrain, iteration=i, fobj=obj)\n"
     ]
    },
    {
     "name": "stdout",
     "output_type": "stream",
     "text": [
      "Accuracy: 0.6800\n",
      "              precision    recall  f1-score   support\n",
      "\n",
      "           0       0.71      0.72      0.71       110\n",
      "           1       0.65      0.63      0.64        90\n",
      "\n",
      "    accuracy                           0.68       200\n",
      "   macro avg       0.68      0.68      0.68       200\n",
      "weighted avg       0.68      0.68      0.68       200\n",
      "\n"
     ]
    },
    {
     "name": "stderr",
     "output_type": "stream",
     "text": [
      "2025/04/01 20:58:27 WARNING mlflow.models.model: Model logged without a signature and input example. Please set `input_example` parameter when logging the model to auto infer the model signature.\n"
     ]
    }
   ],
   "source": [
    "# Features & Target\n",
    "X = features = basic_data.drop('healthcare_target', axis=1)\n",
    "y = basic_data['healthcare_target']\n",
    "\n",
    "# Splitting the data\n",
    "X_train, X_test, y_train, y_test = train_test_split(X, y, test_size=0.2, random_state=42)\n",
    "\n",
    "mlflow.set_experiment(\"Healthcare Condition Prediction\")\n",
    "mlflow.sklearn.autolog()  # Auto log metrics\n",
    "\n",
    "# MLflow for model tracking\n",
    "with mlflow.start_run(run_name=\"Baseline XGBoost - Not Tuned\"):\n",
    "\n",
    "    # Define XGBoost Model\n",
    "    model = xgb.XGBClassifier(\n",
    "        objective=\"binary:logistic\",\n",
    "        eval_metric=\"logloss\",  \n",
    "        use_label_encoder=False,\n",
    "        n_estimators=100, \n",
    "        learning_rate=0.1, \n",
    "        max_depth=6\n",
    "    )\n",
    "\n",
    "    # Train Model\n",
    "    model.fit(X_train, y_train)\n",
    "\n",
    "    # Predictions\n",
    "    y_pred = model.predict(X_test)\n",
    "\n",
    "    # Evaluate Model\n",
    "    accuracy = accuracy_score(y_test, y_pred)\n",
    "    print(f\"Accuracy: {accuracy:.4f}\")\n",
    "    print(classification_report(y_test, y_pred))\n",
    "\n",
    "    # Model artifacts\n",
    "    report_text = classification_report(y_test, y_pred)\n",
    "    with open(\"classification_report.txt\", \"w\") as f:\n",
    "        f.write(report_text)\n",
    "    mlflow.log_artifact(\"classification_report.txt\")\n",
    "\n",
    "    # Log feature importance\n",
    "    importance = model.feature_importances_\n",
    "    for i, col in enumerate(X.columns):\n",
    "        mlflow.log_metric(f\"Feature_{col}_importance\", importance[i])\n",
    "\n",
    "    # Save Model in MLflow\n",
    "    mlflow.sklearn.log_model(model, \"XGBoost_not_tuned\")"
   ]
  },
  {
   "cell_type": "markdown",
   "metadata": {},
   "source": [
    "##### Base on these results and compare the parameters and scores from MLFlow we came up with random-forest classification and SVM as the best choosed ML Models for the given scenario, Therefore they will be choosen for further enhancements."
   ]
  },
  {
   "cell_type": "markdown",
   "metadata": {},
   "source": []
  }
 ],
 "metadata": {
  "kernelspec": {
   "display_name": "Python 3",
   "language": "python",
   "name": "python3"
  },
  "language_info": {
   "codemirror_mode": {
    "name": "ipython",
    "version": 3
   },
   "file_extension": ".py",
   "mimetype": "text/x-python",
   "name": "python",
   "nbconvert_exporter": "python",
   "pygments_lexer": "ipython3",
   "version": "3.11.5"
  }
 },
 "nbformat": 4,
 "nbformat_minor": 2
}
