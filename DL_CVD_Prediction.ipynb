{
 "cells": [
  {
   "cell_type": "code",
   "execution_count": 1,
   "id": "31ffee10",
   "metadata": {},
   "outputs": [],
   "source": [
    "import pandas as pd\n",
    "import tensorflow as tf\n",
    "from sklearn.preprocessing import StandardScaler\n",
    "from tensorflow import keras\n",
    "from tensorflow.keras import layers, regularizers"
   ]
  },
  {
   "cell_type": "markdown",
   "id": "2151d51d",
   "metadata": {},
   "source": [
    "### Loading the Data"
   ]
  },
  {
   "cell_type": "code",
   "execution_count": 2,
   "id": "0aa8be21",
   "metadata": {},
   "outputs": [
    {
     "data": {
      "application/vnd.microsoft.datawrangler.viewer.v0+json": {
       "columns": [
        {
         "name": "index",
         "rawType": "int64",
         "type": "integer"
        },
        {
         "name": "heart_rate",
         "rawType": "float64",
         "type": "float"
        },
        {
         "name": "oxygen_saturation",
         "rawType": "float64",
         "type": "float"
        },
        {
         "name": "respiratory_rate",
         "rawType": "float64",
         "type": "float"
        },
        {
         "name": "temperature",
         "rawType": "float64",
         "type": "float"
        },
        {
         "name": "Label",
         "rawType": "int64",
         "type": "integer"
        }
       ],
       "conversionMethod": "pd.DataFrame",
       "ref": "4f94ae3f-cefc-4a0d-8b12-23f8af2a7929",
       "rows": [
        [
         "0",
         "93.0",
         "98.0",
         "39.0",
         "36.0",
         "1"
        ],
        [
         "1",
         "97.0",
         "98.0",
         "16.0",
         "36.5",
         "0"
        ],
        [
         "2",
         "82.0",
         "97.0",
         "25.0",
         "36.3",
         "1"
        ],
        [
         "3",
         "98.0",
         "96.0",
         "16.0",
         "36.5",
         "1"
        ],
        [
         "4",
         "98.0",
         "99.0",
         "28.0",
         "37.2",
         "1"
        ]
       ],
       "shape": {
        "columns": 5,
        "rows": 5
       }
      },
      "text/html": [
       "<div>\n",
       "<style scoped>\n",
       "    .dataframe tbody tr th:only-of-type {\n",
       "        vertical-align: middle;\n",
       "    }\n",
       "\n",
       "    .dataframe tbody tr th {\n",
       "        vertical-align: top;\n",
       "    }\n",
       "\n",
       "    .dataframe thead th {\n",
       "        text-align: right;\n",
       "    }\n",
       "</style>\n",
       "<table border=\"1\" class=\"dataframe\">\n",
       "  <thead>\n",
       "    <tr style=\"text-align: right;\">\n",
       "      <th></th>\n",
       "      <th>heart_rate</th>\n",
       "      <th>oxygen_saturation</th>\n",
       "      <th>respiratory_rate</th>\n",
       "      <th>temperature</th>\n",
       "      <th>Label</th>\n",
       "    </tr>\n",
       "  </thead>\n",
       "  <tbody>\n",
       "    <tr>\n",
       "      <th>0</th>\n",
       "      <td>93.0</td>\n",
       "      <td>98.0</td>\n",
       "      <td>39.0</td>\n",
       "      <td>36.0</td>\n",
       "      <td>1</td>\n",
       "    </tr>\n",
       "    <tr>\n",
       "      <th>1</th>\n",
       "      <td>97.0</td>\n",
       "      <td>98.0</td>\n",
       "      <td>16.0</td>\n",
       "      <td>36.5</td>\n",
       "      <td>0</td>\n",
       "    </tr>\n",
       "    <tr>\n",
       "      <th>2</th>\n",
       "      <td>82.0</td>\n",
       "      <td>97.0</td>\n",
       "      <td>25.0</td>\n",
       "      <td>36.3</td>\n",
       "      <td>1</td>\n",
       "    </tr>\n",
       "    <tr>\n",
       "      <th>3</th>\n",
       "      <td>98.0</td>\n",
       "      <td>96.0</td>\n",
       "      <td>16.0</td>\n",
       "      <td>36.5</td>\n",
       "      <td>1</td>\n",
       "    </tr>\n",
       "    <tr>\n",
       "      <th>4</th>\n",
       "      <td>98.0</td>\n",
       "      <td>99.0</td>\n",
       "      <td>28.0</td>\n",
       "      <td>37.2</td>\n",
       "      <td>1</td>\n",
       "    </tr>\n",
       "  </tbody>\n",
       "</table>\n",
       "</div>"
      ],
      "text/plain": [
       "   heart_rate  oxygen_saturation  respiratory_rate  temperature  Label\n",
       "0        93.0               98.0              39.0         36.0      1\n",
       "1        97.0               98.0              16.0         36.5      0\n",
       "2        82.0               97.0              25.0         36.3      1\n",
       "3        98.0               96.0              16.0         36.5      1\n",
       "4        98.0               99.0              28.0         37.2      1"
      ]
     },
     "execution_count": 2,
     "metadata": {},
     "output_type": "execute_result"
    }
   ],
   "source": [
    "cvd_data = pd.read_csv(r\"Datasets\\Analyzed\\Analyzed_CVD_Prediction.csv\")\n",
    "cvd_data.head()"
   ]
  },
  {
   "cell_type": "markdown",
   "id": "21cbf184",
   "metadata": {},
   "source": [
    "# Training a DL Model using Keras with 2 Layers"
   ]
  },
  {
   "cell_type": "code",
   "execution_count": 3,
   "id": "eba2d143",
   "metadata": {},
   "outputs": [
    {
     "name": "stdout",
     "output_type": "stream",
     "text": [
      "Epoch 1/50\n",
      "346/346 [==============================] - 7s 5ms/step - loss: 0.2640 - accuracy: 0.8556 - val_loss: 0.1874 - val_accuracy: 0.8962\n",
      "Epoch 2/50\n",
      "346/346 [==============================] - 1s 3ms/step - loss: 0.1973 - accuracy: 0.8934 - val_loss: 0.1936 - val_accuracy: 0.9222\n",
      "Epoch 3/50\n",
      "346/346 [==============================] - 1s 3ms/step - loss: 0.1832 - accuracy: 0.9023 - val_loss: 0.1711 - val_accuracy: 0.9016\n",
      "Epoch 4/50\n",
      "346/346 [==============================] - 1s 3ms/step - loss: 0.1939 - accuracy: 0.8983 - val_loss: 0.1763 - val_accuracy: 0.9237\n",
      "Epoch 5/50\n",
      "346/346 [==============================] - 1s 3ms/step - loss: 0.1826 - accuracy: 0.8984 - val_loss: 0.1677 - val_accuracy: 0.9164\n",
      "Epoch 6/50\n",
      "346/346 [==============================] - 1s 3ms/step - loss: 0.1834 - accuracy: 0.8988 - val_loss: 0.1639 - val_accuracy: 0.8947\n",
      "Epoch 7/50\n",
      "346/346 [==============================] - 1s 4ms/step - loss: 0.1783 - accuracy: 0.9012 - val_loss: 0.1685 - val_accuracy: 0.8925\n",
      "Epoch 8/50\n",
      "346/346 [==============================] - 1s 3ms/step - loss: 0.1705 - accuracy: 0.9058 - val_loss: 0.1547 - val_accuracy: 0.9193\n",
      "Epoch 9/50\n",
      "346/346 [==============================] - 1s 3ms/step - loss: 0.1724 - accuracy: 0.9041 - val_loss: 0.1814 - val_accuracy: 0.9150\n",
      "Epoch 10/50\n",
      "346/346 [==============================] - 1s 4ms/step - loss: 0.1663 - accuracy: 0.9068 - val_loss: 0.1632 - val_accuracy: 0.9226\n",
      "Epoch 11/50\n",
      "346/346 [==============================] - 1s 3ms/step - loss: 0.1750 - accuracy: 0.9039 - val_loss: 0.1567 - val_accuracy: 0.9128\n",
      "Epoch 12/50\n",
      "346/346 [==============================] - 1s 3ms/step - loss: 0.1637 - accuracy: 0.9081 - val_loss: 0.1734 - val_accuracy: 0.8730\n",
      "Epoch 13/50\n",
      "346/346 [==============================] - 1s 3ms/step - loss: 0.1670 - accuracy: 0.9084 - val_loss: 0.1534 - val_accuracy: 0.9161\n",
      "Epoch 14/50\n",
      "346/346 [==============================] - 1s 3ms/step - loss: 0.1719 - accuracy: 0.9058 - val_loss: 0.1663 - val_accuracy: 0.9186\n",
      "Epoch 15/50\n",
      "346/346 [==============================] - 1s 3ms/step - loss: 0.1615 - accuracy: 0.9113 - val_loss: 0.1644 - val_accuracy: 0.9197\n",
      "Epoch 16/50\n",
      "346/346 [==============================] - 1s 3ms/step - loss: 0.1606 - accuracy: 0.9124 - val_loss: 0.1529 - val_accuracy: 0.9103\n",
      "Epoch 17/50\n",
      "346/346 [==============================] - 1s 3ms/step - loss: 0.1581 - accuracy: 0.9123 - val_loss: 0.1637 - val_accuracy: 0.9226\n",
      "Epoch 18/50\n",
      "346/346 [==============================] - 1s 3ms/step - loss: 0.1610 - accuracy: 0.9110 - val_loss: 0.1503 - val_accuracy: 0.9128\n",
      "Epoch 19/50\n",
      "346/346 [==============================] - 1s 3ms/step - loss: 0.1578 - accuracy: 0.9154 - val_loss: 0.2072 - val_accuracy: 0.8509\n",
      "Epoch 20/50\n",
      "346/346 [==============================] - 1s 4ms/step - loss: 0.1598 - accuracy: 0.9140 - val_loss: 0.1703 - val_accuracy: 0.8781\n",
      "Epoch 21/50\n",
      "346/346 [==============================] - 1s 4ms/step - loss: 0.1584 - accuracy: 0.9126 - val_loss: 0.1670 - val_accuracy: 0.9153\n",
      "Epoch 22/50\n",
      "346/346 [==============================] - 1s 4ms/step - loss: 0.1579 - accuracy: 0.9135 - val_loss: 0.1622 - val_accuracy: 0.9222\n",
      "Epoch 23/50\n",
      "346/346 [==============================] - 1s 4ms/step - loss: 0.1573 - accuracy: 0.9121 - val_loss: 0.1547 - val_accuracy: 0.9182\n",
      "Epoch 24/50\n",
      "346/346 [==============================] - 1s 3ms/step - loss: 0.1561 - accuracy: 0.9152 - val_loss: 0.1526 - val_accuracy: 0.9179\n",
      "Epoch 25/50\n",
      "346/346 [==============================] - 1s 4ms/step - loss: 0.1551 - accuracy: 0.9167 - val_loss: 0.1514 - val_accuracy: 0.9222\n",
      "Epoch 26/50\n",
      "346/346 [==============================] - 1s 4ms/step - loss: 0.1584 - accuracy: 0.9146 - val_loss: 0.1516 - val_accuracy: 0.9219\n",
      "Epoch 27/50\n",
      "346/346 [==============================] - 1s 3ms/step - loss: 0.1571 - accuracy: 0.9153 - val_loss: 0.1488 - val_accuracy: 0.9208\n",
      "Epoch 28/50\n",
      "346/346 [==============================] - 1s 3ms/step - loss: 0.1586 - accuracy: 0.9134 - val_loss: 0.1473 - val_accuracy: 0.9233\n",
      "Epoch 29/50\n",
      "346/346 [==============================] - 2s 4ms/step - loss: 0.1549 - accuracy: 0.9170 - val_loss: 0.1794 - val_accuracy: 0.9034\n",
      "Epoch 30/50\n",
      "346/346 [==============================] - 1s 4ms/step - loss: 0.1567 - accuracy: 0.9147 - val_loss: 0.1566 - val_accuracy: 0.9219\n",
      "Epoch 31/50\n",
      "346/346 [==============================] - 2s 5ms/step - loss: 0.1540 - accuracy: 0.9186 - val_loss: 0.1486 - val_accuracy: 0.9190\n",
      "Epoch 32/50\n",
      "346/346 [==============================] - 2s 4ms/step - loss: 0.1531 - accuracy: 0.9177 - val_loss: 0.1488 - val_accuracy: 0.9229\n",
      "Epoch 33/50\n",
      "346/346 [==============================] - 1s 3ms/step - loss: 0.1527 - accuracy: 0.9191 - val_loss: 0.1484 - val_accuracy: 0.9226\n",
      "Epoch 34/50\n",
      "346/346 [==============================] - 1s 3ms/step - loss: 0.1504 - accuracy: 0.9199 - val_loss: 0.1646 - val_accuracy: 0.9222\n",
      "Epoch 35/50\n",
      "346/346 [==============================] - 1s 3ms/step - loss: 0.1523 - accuracy: 0.9167 - val_loss: 0.1498 - val_accuracy: 0.9226\n",
      "Epoch 36/50\n",
      "346/346 [==============================] - 2s 6ms/step - loss: 0.1535 - accuracy: 0.9153 - val_loss: 0.1458 - val_accuracy: 0.9208\n",
      "Epoch 37/50\n",
      "346/346 [==============================] - 1s 4ms/step - loss: 0.1511 - accuracy: 0.9178 - val_loss: 0.1509 - val_accuracy: 0.9171\n",
      "Epoch 38/50\n",
      "346/346 [==============================] - 1s 3ms/step - loss: 0.1510 - accuracy: 0.9194 - val_loss: 0.1494 - val_accuracy: 0.9240\n",
      "Epoch 39/50\n",
      "346/346 [==============================] - 1s 3ms/step - loss: 0.1521 - accuracy: 0.9171 - val_loss: 0.1482 - val_accuracy: 0.9226\n",
      "Epoch 40/50\n",
      "346/346 [==============================] - 1s 3ms/step - loss: 0.1533 - accuracy: 0.9176 - val_loss: 0.1476 - val_accuracy: 0.9226\n",
      "Epoch 41/50\n",
      "346/346 [==============================] - 1s 3ms/step - loss: 0.1548 - accuracy: 0.9159 - val_loss: 0.1462 - val_accuracy: 0.9240\n",
      "Epoch 42/50\n",
      "346/346 [==============================] - 1s 3ms/step - loss: 0.1501 - accuracy: 0.9204 - val_loss: 0.1462 - val_accuracy: 0.9237\n",
      "Epoch 43/50\n",
      "346/346 [==============================] - 1s 3ms/step - loss: 0.1498 - accuracy: 0.9200 - val_loss: 0.1471 - val_accuracy: 0.9197\n",
      "Epoch 44/50\n",
      "346/346 [==============================] - 1s 4ms/step - loss: 0.1501 - accuracy: 0.9195 - val_loss: 0.1469 - val_accuracy: 0.9229\n",
      "Epoch 45/50\n",
      "346/346 [==============================] - 1s 4ms/step - loss: 0.1493 - accuracy: 0.9204 - val_loss: 0.1509 - val_accuracy: 0.9124\n",
      "Epoch 46/50\n",
      "346/346 [==============================] - 1s 3ms/step - loss: 0.1521 - accuracy: 0.9180 - val_loss: 0.1451 - val_accuracy: 0.9240\n",
      "Epoch 47/50\n",
      "346/346 [==============================] - 1s 4ms/step - loss: 0.1496 - accuracy: 0.9211 - val_loss: 0.1472 - val_accuracy: 0.9240\n",
      "Epoch 48/50\n",
      "346/346 [==============================] - 1s 4ms/step - loss: 0.1506 - accuracy: 0.9190 - val_loss: 0.1456 - val_accuracy: 0.9229\n",
      "Epoch 49/50\n",
      "346/346 [==============================] - 1s 3ms/step - loss: 0.1475 - accuracy: 0.9214 - val_loss: 0.1483 - val_accuracy: 0.9179\n",
      "Epoch 50/50\n",
      "346/346 [==============================] - 1s 3ms/step - loss: 0.1521 - accuracy: 0.9186 - val_loss: 0.1486 - val_accuracy: 0.9193\n",
      "87/87 [==============================] - 0s 2ms/step - loss: 0.1486 - accuracy: 0.9193\n",
      "Test accuracy: 0.9193198084831238\n"
     ]
    }
   ],
   "source": [
    "# Split the data into training and validation sets\n",
    "train_data = cvd_data.sample(frac=0.8, random_state=0)\n",
    "val_data = cvd_data.drop(train_data.index)\n",
    "\n",
    "# Preprocess the data\n",
    "train_labels = train_data.pop('Label')\n",
    "val_labels = val_data.pop('Label')\n",
    "\n",
    "# Define the model\n",
    "model = keras.Sequential([\n",
    "    keras.layers.Dense(64, activation='relu', input_shape=(train_data.shape[1],)),\n",
    "    keras.layers.Dense(32, activation='relu'),\n",
    "    keras.layers.Dense(1, activation='sigmoid')\n",
    "])\n",
    "\n",
    "# Compile the model\n",
    "model.compile(optimizer='adam',\n",
    "              loss='binary_crossentropy',\n",
    "              metrics=['accuracy'])\n",
    "\n",
    "# Train the model\n",
    "history = model.fit(train_data, train_labels, epochs=50,\n",
    "                    validation_data=(val_data, val_labels))\n",
    "\n",
    "# Evaluate the model\n",
    "test_loss, test_acc = model.evaluate(val_data, val_labels)\n",
    "\n",
    "print('Test accuracy:', test_acc)\n"
   ]
  },
  {
   "cell_type": "markdown",
   "id": "0b78b87d",
   "metadata": {},
   "source": [
    "#### These scores seems good to be deploy, so it will be converted into a TFLite model"
   ]
  },
  {
   "cell_type": "markdown",
   "id": "0ab06920",
   "metadata": {},
   "source": [
    "### Converting this model to TFLite Model"
   ]
  },
  {
   "cell_type": "code",
   "execution_count": 4,
   "id": "b1622124",
   "metadata": {},
   "outputs": [
    {
     "name": "stdout",
     "output_type": "stream",
     "text": [
      "INFO:tensorflow:Assets written to: C:\\Users\\SANDIN~1\\AppData\\Local\\Temp\\tmpipxnl7o0\\assets\n"
     ]
    }
   ],
   "source": [
    "converter = tf.lite.TFLiteConverter.from_keras_model(model)\n",
    "converter.optimizations = [tf.lite.Optimize.DEFAULT]\n",
    "converter.target_spec.supported_ops = [tf.lite.OpsSet.TFLITE_BUILTINS]  # <-- ensure Pi compatibility\n",
    "tflite_model = converter.convert()\n",
    "\n",
    "with open('Models/CVD_Classification_Model.tflite', 'wb') as f:\n",
    "    f.write(tflite_model)"
   ]
  }
 ],
 "metadata": {
  "kernelspec": {
   "display_name": "py310",
   "language": "python",
   "name": "python3"
  },
  "language_info": {
   "codemirror_mode": {
    "name": "ipython",
    "version": 3
   },
   "file_extension": ".py",
   "mimetype": "text/x-python",
   "name": "python",
   "nbconvert_exporter": "python",
   "pygments_lexer": "ipython3",
   "version": "3.10.14"
  }
 },
 "nbformat": 4,
 "nbformat_minor": 5
}
