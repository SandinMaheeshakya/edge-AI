{
 "cells": [
  {
   "cell_type": "code",
   "execution_count": 13,
   "id": "31ffee10",
   "metadata": {},
   "outputs": [],
   "source": [
    "import pandas as pd\n",
    "import tensorflow as tf\n",
    "from sklearn.preprocessing import StandardScaler\n",
    "from tensorflow import keras\n",
    "from tensorflow.keras import layers, regularizers"
   ]
  },
  {
   "cell_type": "markdown",
   "id": "2151d51d",
   "metadata": {},
   "source": [
    "### Loading the Data"
   ]
  },
  {
   "cell_type": "code",
   "execution_count": 15,
   "id": "0aa8be21",
   "metadata": {},
   "outputs": [
    {
     "data": {
      "application/vnd.microsoft.datawrangler.viewer.v0+json": {
       "columns": [
        {
         "name": "index",
         "rawType": "int64",
         "type": "integer"
        },
        {
         "name": "heart_rate",
         "rawType": "float64",
         "type": "float"
        },
        {
         "name": "oxygen_saturation",
         "rawType": "float64",
         "type": "float"
        },
        {
         "name": "respiratory_rate",
         "rawType": "float64",
         "type": "float"
        },
        {
         "name": "temperature",
         "rawType": "float64",
         "type": "float"
        },
        {
         "name": "Label",
         "rawType": "int64",
         "type": "integer"
        }
       ],
       "conversionMethod": "pd.DataFrame",
       "ref": "52297533-45c7-431c-914a-7ac430c4425e",
       "rows": [
        [
         "0",
         "93.0",
         "98.0",
         "39.0",
         "36.0",
         "1"
        ],
        [
         "1",
         "97.0",
         "98.0",
         "16.0",
         "36.5",
         "0"
        ],
        [
         "2",
         "82.0",
         "97.0",
         "25.0",
         "36.3",
         "1"
        ],
        [
         "3",
         "98.0",
         "96.0",
         "16.0",
         "36.5",
         "1"
        ],
        [
         "4",
         "98.0",
         "99.0",
         "28.0",
         "37.2",
         "1"
        ]
       ],
       "shape": {
        "columns": 5,
        "rows": 5
       }
      },
      "text/html": [
       "<div>\n",
       "<style scoped>\n",
       "    .dataframe tbody tr th:only-of-type {\n",
       "        vertical-align: middle;\n",
       "    }\n",
       "\n",
       "    .dataframe tbody tr th {\n",
       "        vertical-align: top;\n",
       "    }\n",
       "\n",
       "    .dataframe thead th {\n",
       "        text-align: right;\n",
       "    }\n",
       "</style>\n",
       "<table border=\"1\" class=\"dataframe\">\n",
       "  <thead>\n",
       "    <tr style=\"text-align: right;\">\n",
       "      <th></th>\n",
       "      <th>heart_rate</th>\n",
       "      <th>oxygen_saturation</th>\n",
       "      <th>respiratory_rate</th>\n",
       "      <th>temperature</th>\n",
       "      <th>Label</th>\n",
       "    </tr>\n",
       "  </thead>\n",
       "  <tbody>\n",
       "    <tr>\n",
       "      <th>0</th>\n",
       "      <td>93.0</td>\n",
       "      <td>98.0</td>\n",
       "      <td>39.0</td>\n",
       "      <td>36.0</td>\n",
       "      <td>1</td>\n",
       "    </tr>\n",
       "    <tr>\n",
       "      <th>1</th>\n",
       "      <td>97.0</td>\n",
       "      <td>98.0</td>\n",
       "      <td>16.0</td>\n",
       "      <td>36.5</td>\n",
       "      <td>0</td>\n",
       "    </tr>\n",
       "    <tr>\n",
       "      <th>2</th>\n",
       "      <td>82.0</td>\n",
       "      <td>97.0</td>\n",
       "      <td>25.0</td>\n",
       "      <td>36.3</td>\n",
       "      <td>1</td>\n",
       "    </tr>\n",
       "    <tr>\n",
       "      <th>3</th>\n",
       "      <td>98.0</td>\n",
       "      <td>96.0</td>\n",
       "      <td>16.0</td>\n",
       "      <td>36.5</td>\n",
       "      <td>1</td>\n",
       "    </tr>\n",
       "    <tr>\n",
       "      <th>4</th>\n",
       "      <td>98.0</td>\n",
       "      <td>99.0</td>\n",
       "      <td>28.0</td>\n",
       "      <td>37.2</td>\n",
       "      <td>1</td>\n",
       "    </tr>\n",
       "  </tbody>\n",
       "</table>\n",
       "</div>"
      ],
      "text/plain": [
       "   heart_rate  oxygen_saturation  respiratory_rate  temperature  Label\n",
       "0        93.0               98.0              39.0         36.0      1\n",
       "1        97.0               98.0              16.0         36.5      0\n",
       "2        82.0               97.0              25.0         36.3      1\n",
       "3        98.0               96.0              16.0         36.5      1\n",
       "4        98.0               99.0              28.0         37.2      1"
      ]
     },
     "execution_count": 15,
     "metadata": {},
     "output_type": "execute_result"
    }
   ],
   "source": [
    "cvd_data = pd.read_csv(r\"Datasets\\Analyzed\\Analyzed_CVD_Prediction.csv\")\n",
    "cvd_data.head()"
   ]
  },
  {
   "cell_type": "markdown",
   "id": "21cbf184",
   "metadata": {},
   "source": [
    "# Training a DL Model using Keras with 2 Layers"
   ]
  },
  {
   "cell_type": "code",
   "execution_count": 16,
   "id": "eba2d143",
   "metadata": {},
   "outputs": [
    {
     "name": "stderr",
     "output_type": "stream",
     "text": [
      "c:\\Users\\Sandin Maheeshakya\\AppData\\Local\\Programs\\Python\\Python311\\Lib\\site-packages\\keras\\src\\layers\\core\\dense.py:87: UserWarning: Do not pass an `input_shape`/`input_dim` argument to a layer. When using Sequential models, prefer using an `Input(shape)` object as the first layer in the model instead.\n",
      "  super().__init__(activity_regularizer=activity_regularizer, **kwargs)\n"
     ]
    },
    {
     "name": "stdout",
     "output_type": "stream",
     "text": [
      "Epoch 1/50\n",
      "\u001b[1m346/346\u001b[0m \u001b[32m━━━━━━━━━━━━━━━━━━━━\u001b[0m\u001b[37m\u001b[0m \u001b[1m2s\u001b[0m 2ms/step - accuracy: 0.8459 - loss: 0.3881 - val_accuracy: 0.8712 - val_loss: 0.2001\n",
      "Epoch 2/50\n",
      "\u001b[1m346/346\u001b[0m \u001b[32m━━━━━━━━━━━━━━━━━━━━\u001b[0m\u001b[37m\u001b[0m \u001b[1m0s\u001b[0m 1ms/step - accuracy: 0.8738 - loss: 0.1988 - val_accuracy: 0.8889 - val_loss: 0.1811\n",
      "Epoch 3/50\n",
      "\u001b[1m346/346\u001b[0m \u001b[32m━━━━━━━━━━━━━━━━━━━━\u001b[0m\u001b[37m\u001b[0m \u001b[1m0s\u001b[0m 1ms/step - accuracy: 0.8988 - loss: 0.1789 - val_accuracy: 0.9182 - val_loss: 0.1686\n",
      "Epoch 4/50\n",
      "\u001b[1m346/346\u001b[0m \u001b[32m━━━━━━━━━━━━━━━━━━━━\u001b[0m\u001b[37m\u001b[0m \u001b[1m0s\u001b[0m 843us/step - accuracy: 0.9142 - loss: 0.1673 - val_accuracy: 0.9081 - val_loss: 0.1623\n",
      "Epoch 5/50\n",
      "\u001b[1m346/346\u001b[0m \u001b[32m━━━━━━━━━━━━━━━━━━━━\u001b[0m\u001b[37m\u001b[0m \u001b[1m0s\u001b[0m 913us/step - accuracy: 0.9175 - loss: 0.1624 - val_accuracy: 0.9262 - val_loss: 0.1522\n",
      "Epoch 6/50\n",
      "\u001b[1m346/346\u001b[0m \u001b[32m━━━━━━━━━━━━━━━━━━━━\u001b[0m\u001b[37m\u001b[0m \u001b[1m0s\u001b[0m 870us/step - accuracy: 0.9213 - loss: 0.1535 - val_accuracy: 0.9211 - val_loss: 0.1533\n",
      "Epoch 7/50\n",
      "\u001b[1m346/346\u001b[0m \u001b[32m━━━━━━━━━━━━━━━━━━━━\u001b[0m\u001b[37m\u001b[0m \u001b[1m0s\u001b[0m 848us/step - accuracy: 0.9240 - loss: 0.1498 - val_accuracy: 0.9295 - val_loss: 0.1476\n",
      "Epoch 8/50\n",
      "\u001b[1m346/346\u001b[0m \u001b[32m━━━━━━━━━━━━━━━━━━━━\u001b[0m\u001b[37m\u001b[0m \u001b[1m0s\u001b[0m 855us/step - accuracy: 0.9302 - loss: 0.1464 - val_accuracy: 0.9305 - val_loss: 0.1446\n",
      "Epoch 9/50\n",
      "\u001b[1m346/346\u001b[0m \u001b[32m━━━━━━━━━━━━━━━━━━━━\u001b[0m\u001b[37m\u001b[0m \u001b[1m0s\u001b[0m 940us/step - accuracy: 0.9335 - loss: 0.1415 - val_accuracy: 0.9323 - val_loss: 0.1425\n",
      "Epoch 10/50\n",
      "\u001b[1m346/346\u001b[0m \u001b[32m━━━━━━━━━━━━━━━━━━━━\u001b[0m\u001b[37m\u001b[0m \u001b[1m0s\u001b[0m 908us/step - accuracy: 0.9311 - loss: 0.1441 - val_accuracy: 0.9287 - val_loss: 0.1417\n",
      "Epoch 11/50\n",
      "\u001b[1m346/346\u001b[0m \u001b[32m━━━━━━━━━━━━━━━━━━━━\u001b[0m\u001b[37m\u001b[0m \u001b[1m0s\u001b[0m 959us/step - accuracy: 0.9318 - loss: 0.1412 - val_accuracy: 0.9367 - val_loss: 0.1382\n",
      "Epoch 12/50\n",
      "\u001b[1m346/346\u001b[0m \u001b[32m━━━━━━━━━━━━━━━━━━━━\u001b[0m\u001b[37m\u001b[0m \u001b[1m0s\u001b[0m 961us/step - accuracy: 0.9374 - loss: 0.1332 - val_accuracy: 0.9338 - val_loss: 0.1372\n",
      "Epoch 13/50\n",
      "\u001b[1m346/346\u001b[0m \u001b[32m━━━━━━━━━━━━━━━━━━━━\u001b[0m\u001b[37m\u001b[0m \u001b[1m0s\u001b[0m 973us/step - accuracy: 0.9359 - loss: 0.1363 - val_accuracy: 0.9305 - val_loss: 0.1386\n",
      "Epoch 14/50\n",
      "\u001b[1m346/346\u001b[0m \u001b[32m━━━━━━━━━━━━━━━━━━━━\u001b[0m\u001b[37m\u001b[0m \u001b[1m0s\u001b[0m 852us/step - accuracy: 0.9323 - loss: 0.1417 - val_accuracy: 0.9374 - val_loss: 0.1343\n",
      "Epoch 15/50\n",
      "\u001b[1m346/346\u001b[0m \u001b[32m━━━━━━━━━━━━━━━━━━━━\u001b[0m\u001b[37m\u001b[0m \u001b[1m0s\u001b[0m 903us/step - accuracy: 0.9331 - loss: 0.1384 - val_accuracy: 0.9396 - val_loss: 0.1323\n",
      "Epoch 16/50\n",
      "\u001b[1m346/346\u001b[0m \u001b[32m━━━━━━━━━━━━━━━━━━━━\u001b[0m\u001b[37m\u001b[0m \u001b[1m0s\u001b[0m 854us/step - accuracy: 0.9361 - loss: 0.1335 - val_accuracy: 0.9396 - val_loss: 0.1346\n",
      "Epoch 17/50\n",
      "\u001b[1m346/346\u001b[0m \u001b[32m━━━━━━━━━━━━━━━━━━━━\u001b[0m\u001b[37m\u001b[0m \u001b[1m0s\u001b[0m 842us/step - accuracy: 0.9376 - loss: 0.1322 - val_accuracy: 0.9381 - val_loss: 0.1364\n",
      "Epoch 18/50\n",
      "\u001b[1m346/346\u001b[0m \u001b[32m━━━━━━━━━━━━━━━━━━━━\u001b[0m\u001b[37m\u001b[0m \u001b[1m0s\u001b[0m 864us/step - accuracy: 0.9357 - loss: 0.1359 - val_accuracy: 0.9374 - val_loss: 0.1346\n",
      "Epoch 19/50\n",
      "\u001b[1m346/346\u001b[0m \u001b[32m━━━━━━━━━━━━━━━━━━━━\u001b[0m\u001b[37m\u001b[0m \u001b[1m0s\u001b[0m 872us/step - accuracy: 0.9388 - loss: 0.1290 - val_accuracy: 0.9389 - val_loss: 0.1301\n",
      "Epoch 20/50\n",
      "\u001b[1m346/346\u001b[0m \u001b[32m━━━━━━━━━━━━━━━━━━━━\u001b[0m\u001b[37m\u001b[0m \u001b[1m0s\u001b[0m 929us/step - accuracy: 0.9384 - loss: 0.1336 - val_accuracy: 0.9370 - val_loss: 0.1314\n",
      "Epoch 21/50\n",
      "\u001b[1m346/346\u001b[0m \u001b[32m━━━━━━━━━━━━━━━━━━━━\u001b[0m\u001b[37m\u001b[0m \u001b[1m0s\u001b[0m 866us/step - accuracy: 0.9354 - loss: 0.1336 - val_accuracy: 0.9407 - val_loss: 0.1300\n",
      "Epoch 22/50\n",
      "\u001b[1m346/346\u001b[0m \u001b[32m━━━━━━━━━━━━━━━━━━━━\u001b[0m\u001b[37m\u001b[0m \u001b[1m0s\u001b[0m 885us/step - accuracy: 0.9383 - loss: 0.1351 - val_accuracy: 0.9327 - val_loss: 0.1335\n",
      "Epoch 23/50\n",
      "\u001b[1m346/346\u001b[0m \u001b[32m━━━━━━━━━━━━━━━━━━━━\u001b[0m\u001b[37m\u001b[0m \u001b[1m0s\u001b[0m 867us/step - accuracy: 0.9373 - loss: 0.1320 - val_accuracy: 0.9399 - val_loss: 0.1292\n",
      "Epoch 24/50\n",
      "\u001b[1m346/346\u001b[0m \u001b[32m━━━━━━━━━━━━━━━━━━━━\u001b[0m\u001b[37m\u001b[0m \u001b[1m0s\u001b[0m 855us/step - accuracy: 0.9408 - loss: 0.1287 - val_accuracy: 0.9418 - val_loss: 0.1278\n",
      "Epoch 25/50\n",
      "\u001b[1m346/346\u001b[0m \u001b[32m━━━━━━━━━━━━━━━━━━━━\u001b[0m\u001b[37m\u001b[0m \u001b[1m0s\u001b[0m 840us/step - accuracy: 0.9415 - loss: 0.1286 - val_accuracy: 0.9378 - val_loss: 0.1287\n",
      "Epoch 26/50\n",
      "\u001b[1m346/346\u001b[0m \u001b[32m━━━━━━━━━━━━━━━━━━━━\u001b[0m\u001b[37m\u001b[0m \u001b[1m0s\u001b[0m 860us/step - accuracy: 0.9377 - loss: 0.1318 - val_accuracy: 0.9389 - val_loss: 0.1267\n",
      "Epoch 27/50\n",
      "\u001b[1m346/346\u001b[0m \u001b[32m━━━━━━━━━━━━━━━━━━━━\u001b[0m\u001b[37m\u001b[0m \u001b[1m0s\u001b[0m 947us/step - accuracy: 0.9368 - loss: 0.1292 - val_accuracy: 0.9399 - val_loss: 0.1266\n",
      "Epoch 28/50\n",
      "\u001b[1m346/346\u001b[0m \u001b[32m━━━━━━━━━━━━━━━━━━━━\u001b[0m\u001b[37m\u001b[0m \u001b[1m0s\u001b[0m 853us/step - accuracy: 0.9386 - loss: 0.1311 - val_accuracy: 0.9410 - val_loss: 0.1273\n",
      "Epoch 29/50\n",
      "\u001b[1m346/346\u001b[0m \u001b[32m━━━━━━━━━━━━━━━━━━━━\u001b[0m\u001b[37m\u001b[0m \u001b[1m0s\u001b[0m 834us/step - accuracy: 0.9443 - loss: 0.1214 - val_accuracy: 0.9428 - val_loss: 0.1265\n",
      "Epoch 30/50\n",
      "\u001b[1m346/346\u001b[0m \u001b[32m━━━━━━━━━━━━━━━━━━━━\u001b[0m\u001b[37m\u001b[0m \u001b[1m0s\u001b[0m 874us/step - accuracy: 0.9425 - loss: 0.1251 - val_accuracy: 0.9407 - val_loss: 0.1250\n",
      "Epoch 31/50\n",
      "\u001b[1m346/346\u001b[0m \u001b[32m━━━━━━━━━━━━━━━━━━━━\u001b[0m\u001b[37m\u001b[0m \u001b[1m0s\u001b[0m 966us/step - accuracy: 0.9363 - loss: 0.1306 - val_accuracy: 0.9432 - val_loss: 0.1247\n",
      "Epoch 32/50\n",
      "\u001b[1m346/346\u001b[0m \u001b[32m━━━━━━━━━━━━━━━━━━━━\u001b[0m\u001b[37m\u001b[0m \u001b[1m0s\u001b[0m 825us/step - accuracy: 0.9353 - loss: 0.1331 - val_accuracy: 0.9436 - val_loss: 0.1244\n",
      "Epoch 33/50\n",
      "\u001b[1m346/346\u001b[0m \u001b[32m━━━━━━━━━━━━━━━━━━━━\u001b[0m\u001b[37m\u001b[0m \u001b[1m0s\u001b[0m 892us/step - accuracy: 0.9412 - loss: 0.1257 - val_accuracy: 0.9446 - val_loss: 0.1248\n",
      "Epoch 34/50\n",
      "\u001b[1m346/346\u001b[0m \u001b[32m━━━━━━━━━━━━━━━━━━━━\u001b[0m\u001b[37m\u001b[0m \u001b[1m0s\u001b[0m 847us/step - accuracy: 0.9373 - loss: 0.1283 - val_accuracy: 0.9425 - val_loss: 0.1266\n",
      "Epoch 35/50\n",
      "\u001b[1m346/346\u001b[0m \u001b[32m━━━━━━━━━━━━━━━━━━━━\u001b[0m\u001b[37m\u001b[0m \u001b[1m0s\u001b[0m 933us/step - accuracy: 0.9389 - loss: 0.1299 - val_accuracy: 0.9414 - val_loss: 0.1260\n",
      "Epoch 36/50\n",
      "\u001b[1m346/346\u001b[0m \u001b[32m━━━━━━━━━━━━━━━━━━━━\u001b[0m\u001b[37m\u001b[0m \u001b[1m0s\u001b[0m 848us/step - accuracy: 0.9424 - loss: 0.1235 - val_accuracy: 0.9392 - val_loss: 0.1267\n",
      "Epoch 37/50\n",
      "\u001b[1m346/346\u001b[0m \u001b[32m━━━━━━━━━━━━━━━━━━━━\u001b[0m\u001b[37m\u001b[0m \u001b[1m0s\u001b[0m 852us/step - accuracy: 0.9375 - loss: 0.1295 - val_accuracy: 0.9436 - val_loss: 0.1243\n",
      "Epoch 38/50\n",
      "\u001b[1m346/346\u001b[0m \u001b[32m━━━━━━━━━━━━━━━━━━━━\u001b[0m\u001b[37m\u001b[0m \u001b[1m0s\u001b[0m 863us/step - accuracy: 0.9416 - loss: 0.1242 - val_accuracy: 0.9418 - val_loss: 0.1243\n",
      "Epoch 39/50\n",
      "\u001b[1m346/346\u001b[0m \u001b[32m━━━━━━━━━━━━━━━━━━━━\u001b[0m\u001b[37m\u001b[0m \u001b[1m0s\u001b[0m 901us/step - accuracy: 0.9416 - loss: 0.1264 - val_accuracy: 0.9421 - val_loss: 0.1253\n",
      "Epoch 40/50\n",
      "\u001b[1m346/346\u001b[0m \u001b[32m━━━━━━━━━━━━━━━━━━━━\u001b[0m\u001b[37m\u001b[0m \u001b[1m0s\u001b[0m 890us/step - accuracy: 0.9384 - loss: 0.1277 - val_accuracy: 0.9425 - val_loss: 0.1252\n",
      "Epoch 41/50\n",
      "\u001b[1m346/346\u001b[0m \u001b[32m━━━━━━━━━━━━━━━━━━━━\u001b[0m\u001b[37m\u001b[0m \u001b[1m0s\u001b[0m 852us/step - accuracy: 0.9396 - loss: 0.1263 - val_accuracy: 0.9370 - val_loss: 0.1291\n",
      "Epoch 42/50\n",
      "\u001b[1m346/346\u001b[0m \u001b[32m━━━━━━━━━━━━━━━━━━━━\u001b[0m\u001b[37m\u001b[0m \u001b[1m0s\u001b[0m 919us/step - accuracy: 0.9375 - loss: 0.1320 - val_accuracy: 0.9425 - val_loss: 0.1242\n",
      "Epoch 43/50\n",
      "\u001b[1m346/346\u001b[0m \u001b[32m━━━━━━━━━━━━━━━━━━━━\u001b[0m\u001b[37m\u001b[0m \u001b[1m0s\u001b[0m 890us/step - accuracy: 0.9409 - loss: 0.1235 - val_accuracy: 0.9414 - val_loss: 0.1239\n",
      "Epoch 44/50\n",
      "\u001b[1m346/346\u001b[0m \u001b[32m━━━━━━━━━━━━━━━━━━━━\u001b[0m\u001b[37m\u001b[0m \u001b[1m0s\u001b[0m 860us/step - accuracy: 0.9396 - loss: 0.1262 - val_accuracy: 0.9418 - val_loss: 0.1231\n",
      "Epoch 45/50\n",
      "\u001b[1m346/346\u001b[0m \u001b[32m━━━━━━━━━━━━━━━━━━━━\u001b[0m\u001b[37m\u001b[0m \u001b[1m0s\u001b[0m 840us/step - accuracy: 0.9401 - loss: 0.1260 - val_accuracy: 0.9446 - val_loss: 0.1229\n",
      "Epoch 46/50\n",
      "\u001b[1m346/346\u001b[0m \u001b[32m━━━━━━━━━━━━━━━━━━━━\u001b[0m\u001b[37m\u001b[0m \u001b[1m0s\u001b[0m 836us/step - accuracy: 0.9433 - loss: 0.1231 - val_accuracy: 0.9428 - val_loss: 0.1240\n",
      "Epoch 47/50\n",
      "\u001b[1m346/346\u001b[0m \u001b[32m━━━━━━━━━━━━━━━━━━━━\u001b[0m\u001b[37m\u001b[0m \u001b[1m0s\u001b[0m 915us/step - accuracy: 0.9369 - loss: 0.1300 - val_accuracy: 0.9454 - val_loss: 0.1228\n",
      "Epoch 48/50\n",
      "\u001b[1m346/346\u001b[0m \u001b[32m━━━━━━━━━━━━━━━━━━━━\u001b[0m\u001b[37m\u001b[0m \u001b[1m0s\u001b[0m 840us/step - accuracy: 0.9425 - loss: 0.1253 - val_accuracy: 0.9439 - val_loss: 0.1224\n",
      "Epoch 49/50\n",
      "\u001b[1m346/346\u001b[0m \u001b[32m━━━━━━━━━━━━━━━━━━━━\u001b[0m\u001b[37m\u001b[0m \u001b[1m0s\u001b[0m 909us/step - accuracy: 0.9355 - loss: 0.1286 - val_accuracy: 0.9443 - val_loss: 0.1220\n",
      "Epoch 50/50\n",
      "\u001b[1m346/346\u001b[0m \u001b[32m━━━━━━━━━━━━━━━━━━━━\u001b[0m\u001b[37m\u001b[0m \u001b[1m0s\u001b[0m 861us/step - accuracy: 0.9444 - loss: 0.1205 - val_accuracy: 0.9323 - val_loss: 0.1265\n",
      "\u001b[1m87/87\u001b[0m \u001b[32m━━━━━━━━━━━━━━━━━━━━\u001b[0m\u001b[37m\u001b[0m \u001b[1m0s\u001b[0m 628us/step - accuracy: 0.9234 - loss: 0.1489\n",
      "Test accuracy: 0.9323444366455078\n"
     ]
    }
   ],
   "source": [
    "# Split the data into training and validation sets\n",
    "train_data = cvd_data.sample(frac=0.8, random_state=0)\n",
    "val_data = cvd_data.drop(train_data.index)\n",
    "\n",
    "# Preprocess the data\n",
    "train_labels = train_data.pop('Label')\n",
    "val_labels = val_data.pop('Label')\n",
    "\n",
    "scaler = StandardScaler()\n",
    "train_data = scaler.fit_transform(train_data)\n",
    "val_data = scaler.transform(val_data)\n",
    "\n",
    "# Define the model\n",
    "model = keras.Sequential([\n",
    "    keras.layers.Dense(64, activation='relu', input_shape=(train_data.shape[1],)),\n",
    "    keras.layers.Dense(32, activation='relu'),\n",
    "    keras.layers.Dense(1, activation='sigmoid')\n",
    "])\n",
    "\n",
    "# Compile the model\n",
    "model.compile(optimizer='adam',\n",
    "              loss='binary_crossentropy',\n",
    "              metrics=['accuracy'])\n",
    "\n",
    "# Train the model\n",
    "history = model.fit(train_data, train_labels, epochs=50,\n",
    "                    validation_data=(val_data, val_labels))\n",
    "\n",
    "# Evaluate the model\n",
    "test_loss, test_acc = model.evaluate(val_data, val_labels)\n",
    "\n",
    "print('Test accuracy:', test_acc)\n"
   ]
  },
  {
   "cell_type": "markdown",
   "id": "0b78b87d",
   "metadata": {},
   "source": [
    "#### These scores seems good to be deploy, so it will be converted into a TFLite model"
   ]
  },
  {
   "cell_type": "markdown",
   "id": "0ab06920",
   "metadata": {},
   "source": [
    "### Converting this model to TFLite Model"
   ]
  },
  {
   "cell_type": "code",
   "execution_count": 19,
   "id": "b1622124",
   "metadata": {},
   "outputs": [
    {
     "name": "stdout",
     "output_type": "stream",
     "text": [
      "INFO:tensorflow:Assets written to: C:\\Users\\SANDIN~1\\AppData\\Local\\Temp\\tmplgecygh4\\assets\n"
     ]
    },
    {
     "name": "stderr",
     "output_type": "stream",
     "text": [
      "INFO:tensorflow:Assets written to: C:\\Users\\SANDIN~1\\AppData\\Local\\Temp\\tmplgecygh4\\assets\n"
     ]
    },
    {
     "name": "stdout",
     "output_type": "stream",
     "text": [
      "Saved artifact at 'C:\\Users\\SANDIN~1\\AppData\\Local\\Temp\\tmplgecygh4'. The following endpoints are available:\n",
      "\n",
      "* Endpoint 'serve'\n",
      "  args_0 (POSITIONAL_ONLY): TensorSpec(shape=(None, 4), dtype=tf.float32, name='keras_tensor_26')\n",
      "Output Type:\n",
      "  TensorSpec(shape=(None, 1), dtype=tf.float32, name=None)\n",
      "Captures:\n",
      "  2245400496848: TensorSpec(shape=(), dtype=tf.resource, name=None)\n",
      "  2245293910992: TensorSpec(shape=(), dtype=tf.resource, name=None)\n",
      "  2245400494928: TensorSpec(shape=(), dtype=tf.resource, name=None)\n",
      "  2245423483216: TensorSpec(shape=(), dtype=tf.resource, name=None)\n",
      "  2245423483984: TensorSpec(shape=(), dtype=tf.resource, name=None)\n",
      "  2245423483600: TensorSpec(shape=(), dtype=tf.resource, name=None)\n"
     ]
    }
   ],
   "source": [
    "converter = tf.lite.TFLiteConverter.from_keras_model(model)\n",
    "converter.optimizations = [tf.lite.Optimize.DEFAULT]\n",
    "tflite_model = converter.convert()\n",
    "\n",
    "with open('Models/CVD_Classification_Model.tflite', 'wb') as f:\n",
    "    f.write(tflite_model)"
   ]
  }
 ],
 "metadata": {
  "kernelspec": {
   "display_name": "Python 3",
   "language": "python",
   "name": "python3"
  },
  "language_info": {
   "codemirror_mode": {
    "name": "ipython",
    "version": 3
   },
   "file_extension": ".py",
   "mimetype": "text/x-python",
   "name": "python",
   "nbconvert_exporter": "python",
   "pygments_lexer": "ipython3",
   "version": "3.11.5"
  }
 },
 "nbformat": 4,
 "nbformat_minor": 5
}
