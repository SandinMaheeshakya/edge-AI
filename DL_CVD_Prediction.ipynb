{
 "cells": [
  {
   "cell_type": "code",
   "execution_count": 1,
   "id": "31ffee10",
   "metadata": {},
   "outputs": [],
   "source": [
    "import pandas as pd\n",
    "import tensorflow as tf\n",
    "from sklearn.preprocessing import StandardScaler\n",
    "from tensorflow import keras\n",
    "from sklearn.utils import class_weight\n",
    "import numpy as np\n",
    "from tensorflow.keras import layers, regularizers"
   ]
  },
  {
   "cell_type": "markdown",
   "id": "2151d51d",
   "metadata": {},
   "source": [
    "### Loading the Data"
   ]
  },
  {
   "cell_type": "code",
   "execution_count": 2,
   "id": "0aa8be21",
   "metadata": {},
   "outputs": [
    {
     "data": {
      "application/vnd.microsoft.datawrangler.viewer.v0+json": {
       "columns": [
        {
         "name": "index",
         "rawType": "int64",
         "type": "integer"
        },
        {
         "name": "heart_rate",
         "rawType": "float64",
         "type": "float"
        },
        {
         "name": "oxygen_saturation",
         "rawType": "float64",
         "type": "float"
        },
        {
         "name": "respiratory_rate",
         "rawType": "float64",
         "type": "float"
        },
        {
         "name": "temperature",
         "rawType": "float64",
         "type": "float"
        },
        {
         "name": "Label",
         "rawType": "int64",
         "type": "integer"
        }
       ],
       "conversionMethod": "pd.DataFrame",
       "ref": "f1dff464-2e61-43be-9397-404351f5efaa",
       "rows": [
        [
         "0",
         "93.0",
         "98.0",
         "39.0",
         "36.0",
         "1"
        ],
        [
         "1",
         "97.0",
         "98.0",
         "16.0",
         "36.5",
         "0"
        ],
        [
         "2",
         "82.0",
         "97.0",
         "25.0",
         "36.3",
         "1"
        ],
        [
         "3",
         "98.0",
         "96.0",
         "16.0",
         "36.5",
         "1"
        ],
        [
         "4",
         "98.0",
         "99.0",
         "28.0",
         "37.2",
         "1"
        ]
       ],
       "shape": {
        "columns": 5,
        "rows": 5
       }
      },
      "text/html": [
       "<div>\n",
       "<style scoped>\n",
       "    .dataframe tbody tr th:only-of-type {\n",
       "        vertical-align: middle;\n",
       "    }\n",
       "\n",
       "    .dataframe tbody tr th {\n",
       "        vertical-align: top;\n",
       "    }\n",
       "\n",
       "    .dataframe thead th {\n",
       "        text-align: right;\n",
       "    }\n",
       "</style>\n",
       "<table border=\"1\" class=\"dataframe\">\n",
       "  <thead>\n",
       "    <tr style=\"text-align: right;\">\n",
       "      <th></th>\n",
       "      <th>heart_rate</th>\n",
       "      <th>oxygen_saturation</th>\n",
       "      <th>respiratory_rate</th>\n",
       "      <th>temperature</th>\n",
       "      <th>Label</th>\n",
       "    </tr>\n",
       "  </thead>\n",
       "  <tbody>\n",
       "    <tr>\n",
       "      <th>0</th>\n",
       "      <td>93.0</td>\n",
       "      <td>98.0</td>\n",
       "      <td>39.0</td>\n",
       "      <td>36.0</td>\n",
       "      <td>1</td>\n",
       "    </tr>\n",
       "    <tr>\n",
       "      <th>1</th>\n",
       "      <td>97.0</td>\n",
       "      <td>98.0</td>\n",
       "      <td>16.0</td>\n",
       "      <td>36.5</td>\n",
       "      <td>0</td>\n",
       "    </tr>\n",
       "    <tr>\n",
       "      <th>2</th>\n",
       "      <td>82.0</td>\n",
       "      <td>97.0</td>\n",
       "      <td>25.0</td>\n",
       "      <td>36.3</td>\n",
       "      <td>1</td>\n",
       "    </tr>\n",
       "    <tr>\n",
       "      <th>3</th>\n",
       "      <td>98.0</td>\n",
       "      <td>96.0</td>\n",
       "      <td>16.0</td>\n",
       "      <td>36.5</td>\n",
       "      <td>1</td>\n",
       "    </tr>\n",
       "    <tr>\n",
       "      <th>4</th>\n",
       "      <td>98.0</td>\n",
       "      <td>99.0</td>\n",
       "      <td>28.0</td>\n",
       "      <td>37.2</td>\n",
       "      <td>1</td>\n",
       "    </tr>\n",
       "  </tbody>\n",
       "</table>\n",
       "</div>"
      ],
      "text/plain": [
       "   heart_rate  oxygen_saturation  respiratory_rate  temperature  Label\n",
       "0        93.0               98.0              39.0         36.0      1\n",
       "1        97.0               98.0              16.0         36.5      0\n",
       "2        82.0               97.0              25.0         36.3      1\n",
       "3        98.0               96.0              16.0         36.5      1\n",
       "4        98.0               99.0              28.0         37.2      1"
      ]
     },
     "execution_count": 2,
     "metadata": {},
     "output_type": "execute_result"
    }
   ],
   "source": [
    "cvd_data = pd.read_csv(r\"Datasets\\Analyzed\\Analyzed_CVD_Prediction.csv\")\n",
    "cvd_data.head()"
   ]
  },
  {
   "cell_type": "markdown",
   "id": "21cbf184",
   "metadata": {},
   "source": [
    "# Training a DL Model using Keras with 2 Layers"
   ]
  },
  {
   "cell_type": "code",
   "execution_count": 3,
   "id": "eba2d143",
   "metadata": {},
   "outputs": [
    {
     "name": "stdout",
     "output_type": "stream",
     "text": [
      "Class Weights: {0: 3.3002985074626867, 1: 0.5892761965675302}\n",
      "Epoch 1/50\n",
      "346/346 [==============================] - 5s 6ms/step - loss: 0.5141 - accuracy: 0.8262 - val_loss: 0.3859 - val_accuracy: 0.8647\n",
      "Epoch 2/50\n",
      "346/346 [==============================] - 2s 4ms/step - loss: 0.2440 - accuracy: 0.8755 - val_loss: 0.1860 - val_accuracy: 0.9215\n",
      "Epoch 3/50\n",
      "346/346 [==============================] - 1s 3ms/step - loss: 0.2079 - accuracy: 0.9009 - val_loss: 0.2442 - val_accuracy: 0.9128\n",
      "Epoch 4/50\n",
      "346/346 [==============================] - 1s 3ms/step - loss: 0.2156 - accuracy: 0.9027 - val_loss: 0.3054 - val_accuracy: 0.9128\n",
      "Epoch 5/50\n",
      "346/346 [==============================] - 1s 3ms/step - loss: 0.1933 - accuracy: 0.9105 - val_loss: 0.1674 - val_accuracy: 0.8940\n",
      "Epoch 6/50\n",
      "346/346 [==============================] - 1s 3ms/step - loss: 0.1978 - accuracy: 0.9103 - val_loss: 0.1923 - val_accuracy: 0.9034\n",
      "Epoch 7/50\n",
      "346/346 [==============================] - 1s 3ms/step - loss: 0.1924 - accuracy: 0.9115 - val_loss: 0.2904 - val_accuracy: 0.9117\n",
      "Epoch 8/50\n",
      "346/346 [==============================] - 1s 3ms/step - loss: 0.1946 - accuracy: 0.9106 - val_loss: 0.2704 - val_accuracy: 0.9117\n",
      "Epoch 9/50\n",
      "346/346 [==============================] - 1s 4ms/step - loss: 0.1838 - accuracy: 0.9127 - val_loss: 0.2290 - val_accuracy: 0.9132\n",
      "Epoch 10/50\n",
      "346/346 [==============================] - 2s 4ms/step - loss: 0.1834 - accuracy: 0.9164 - val_loss: 0.2780 - val_accuracy: 0.9092\n",
      "Epoch 11/50\n",
      "346/346 [==============================] - 1s 3ms/step - loss: 0.1817 - accuracy: 0.9136 - val_loss: 0.3261 - val_accuracy: 0.8994\n",
      "Epoch 12/50\n",
      "346/346 [==============================] - 1s 3ms/step - loss: 0.1860 - accuracy: 0.9114 - val_loss: 0.1528 - val_accuracy: 0.9132\n",
      "Epoch 13/50\n",
      "346/346 [==============================] - 1s 4ms/step - loss: 0.1927 - accuracy: 0.9101 - val_loss: 0.2450 - val_accuracy: 0.9132\n",
      "Epoch 14/50\n",
      "346/346 [==============================] - 1s 4ms/step - loss: 0.1815 - accuracy: 0.9125 - val_loss: 0.2338 - val_accuracy: 0.9211\n",
      "Epoch 15/50\n",
      "346/346 [==============================] - 2s 5ms/step - loss: 0.1994 - accuracy: 0.9097 - val_loss: 0.1897 - val_accuracy: 0.9208\n",
      "Epoch 16/50\n",
      "346/346 [==============================] - 2s 4ms/step - loss: 0.1823 - accuracy: 0.9143 - val_loss: 0.2039 - val_accuracy: 0.9135\n",
      "Epoch 17/50\n",
      "346/346 [==============================] - 1s 4ms/step - loss: 0.1783 - accuracy: 0.9142 - val_loss: 0.3264 - val_accuracy: 0.9128\n",
      "Epoch 18/50\n",
      "346/346 [==============================] - 1s 4ms/step - loss: 0.1809 - accuracy: 0.9150 - val_loss: 0.2444 - val_accuracy: 0.8987\n",
      "Epoch 19/50\n",
      "346/346 [==============================] - 1s 4ms/step - loss: 0.1834 - accuracy: 0.9119 - val_loss: 0.2966 - val_accuracy: 0.9059\n",
      "Epoch 20/50\n",
      "346/346 [==============================] - 1s 4ms/step - loss: 0.1841 - accuracy: 0.9121 - val_loss: 0.1675 - val_accuracy: 0.9244\n",
      "Epoch 21/50\n",
      "346/346 [==============================] - 1s 4ms/step - loss: 0.1767 - accuracy: 0.9154 - val_loss: 0.2500 - val_accuracy: 0.9146\n",
      "Epoch 22/50\n",
      "346/346 [==============================] - 1s 4ms/step - loss: 0.1758 - accuracy: 0.9163 - val_loss: 0.2608 - val_accuracy: 0.9175\n",
      "Epoch 23/50\n",
      "346/346 [==============================] - 1s 4ms/step - loss: 0.1742 - accuracy: 0.9164 - val_loss: 0.1993 - val_accuracy: 0.9229\n",
      "Epoch 24/50\n",
      "346/346 [==============================] - 2s 5ms/step - loss: 0.1738 - accuracy: 0.9167 - val_loss: 0.2109 - val_accuracy: 0.9146\n",
      "Epoch 25/50\n",
      "346/346 [==============================] - 1s 4ms/step - loss: 0.1785 - accuracy: 0.9145 - val_loss: 0.2833 - val_accuracy: 0.9204\n",
      "Epoch 26/50\n",
      "346/346 [==============================] - 1s 4ms/step - loss: 0.1829 - accuracy: 0.9128 - val_loss: 0.1743 - val_accuracy: 0.9240\n",
      "Epoch 27/50\n",
      "346/346 [==============================] - 1s 3ms/step - loss: 0.1763 - accuracy: 0.9143 - val_loss: 0.2381 - val_accuracy: 0.9200\n",
      "Epoch 28/50\n",
      "346/346 [==============================] - 1s 3ms/step - loss: 0.1746 - accuracy: 0.9154 - val_loss: 0.2702 - val_accuracy: 0.9193\n",
      "Epoch 29/50\n",
      "346/346 [==============================] - 1s 4ms/step - loss: 0.1690 - accuracy: 0.9186 - val_loss: 0.2361 - val_accuracy: 0.8987\n",
      "Epoch 30/50\n",
      "346/346 [==============================] - 1s 4ms/step - loss: 0.1713 - accuracy: 0.9157 - val_loss: 0.2680 - val_accuracy: 0.9081\n",
      "Epoch 31/50\n",
      "346/346 [==============================] - 1s 4ms/step - loss: 0.1737 - accuracy: 0.9164 - val_loss: 0.2146 - val_accuracy: 0.9175\n",
      "Epoch 32/50\n",
      "346/346 [==============================] - 1s 4ms/step - loss: 0.1713 - accuracy: 0.9169 - val_loss: 0.3228 - val_accuracy: 0.9179\n",
      "Epoch 33/50\n",
      "346/346 [==============================] - 1s 4ms/step - loss: 0.1680 - accuracy: 0.9190 - val_loss: 0.1812 - val_accuracy: 0.9139\n",
      "Epoch 34/50\n",
      "346/346 [==============================] - 1s 4ms/step - loss: 0.1700 - accuracy: 0.9164 - val_loss: 0.2063 - val_accuracy: 0.9204\n",
      "Epoch 35/50\n",
      "346/346 [==============================] - 1s 3ms/step - loss: 0.1654 - accuracy: 0.9198 - val_loss: 0.2283 - val_accuracy: 0.9229\n",
      "Epoch 36/50\n",
      "346/346 [==============================] - 1s 3ms/step - loss: 0.1664 - accuracy: 0.9184 - val_loss: 0.1864 - val_accuracy: 0.9121\n",
      "Epoch 37/50\n",
      "346/346 [==============================] - 1s 3ms/step - loss: 0.1690 - accuracy: 0.9184 - val_loss: 0.2725 - val_accuracy: 0.9092\n",
      "Epoch 38/50\n",
      "346/346 [==============================] - 1s 3ms/step - loss: 0.1673 - accuracy: 0.9181 - val_loss: 0.1883 - val_accuracy: 0.9139\n",
      "Epoch 39/50\n",
      "346/346 [==============================] - 1s 3ms/step - loss: 0.1757 - accuracy: 0.9137 - val_loss: 0.2526 - val_accuracy: 0.9139\n",
      "Epoch 40/50\n",
      "346/346 [==============================] - 1s 3ms/step - loss: 0.1660 - accuracy: 0.9183 - val_loss: 0.2625 - val_accuracy: 0.9179\n",
      "Epoch 41/50\n",
      "346/346 [==============================] - 1s 3ms/step - loss: 0.1710 - accuracy: 0.9170 - val_loss: 0.1901 - val_accuracy: 0.9229\n",
      "Epoch 42/50\n",
      "346/346 [==============================] - 1s 4ms/step - loss: 0.1677 - accuracy: 0.9178 - val_loss: 0.2226 - val_accuracy: 0.9186\n",
      "Epoch 43/50\n",
      "346/346 [==============================] - 1s 3ms/step - loss: 0.1640 - accuracy: 0.9195 - val_loss: 0.2127 - val_accuracy: 0.9128\n",
      "Epoch 44/50\n",
      "346/346 [==============================] - 1s 3ms/step - loss: 0.1678 - accuracy: 0.9179 - val_loss: 0.1954 - val_accuracy: 0.9219\n",
      "Epoch 45/50\n",
      "346/346 [==============================] - 1s 3ms/step - loss: 0.1655 - accuracy: 0.9188 - val_loss: 0.2073 - val_accuracy: 0.9211\n",
      "Epoch 46/50\n",
      "346/346 [==============================] - 1s 4ms/step - loss: 0.1634 - accuracy: 0.9196 - val_loss: 0.1813 - val_accuracy: 0.9229\n",
      "Epoch 47/50\n",
      "346/346 [==============================] - 2s 5ms/step - loss: 0.1633 - accuracy: 0.9192 - val_loss: 0.2509 - val_accuracy: 0.9219\n",
      "Epoch 48/50\n",
      "346/346 [==============================] - 1s 3ms/step - loss: 0.1663 - accuracy: 0.9174 - val_loss: 0.1794 - val_accuracy: 0.9226\n",
      "Epoch 49/50\n",
      "346/346 [==============================] - 1s 4ms/step - loss: 0.1613 - accuracy: 0.9209 - val_loss: 0.2046 - val_accuracy: 0.9226\n",
      "Epoch 50/50\n",
      "346/346 [==============================] - 1s 3ms/step - loss: 0.1679 - accuracy: 0.9181 - val_loss: 0.2262 - val_accuracy: 0.9197\n",
      "87/87 [==============================] - 0s 2ms/step - loss: 0.2262 - accuracy: 0.9197\n",
      "Test accuracy: 0.9196816086769104\n"
     ]
    }
   ],
   "source": [
    "# Split the data into training and validation sets\n",
    "train_data = cvd_data.sample(frac=0.8, random_state=0)\n",
    "val_data = cvd_data.drop(train_data.index)\n",
    "\n",
    "# Preprocess the data\n",
    "train_labels = train_data.pop('Label')\n",
    "val_labels = val_data.pop('Label')\n",
    "\n",
    "# Convert labels to numpy array if not already\n",
    "train_labels_np = np.array(train_labels)\n",
    "\n",
    "# Compute the class weights\n",
    "class_weights = class_weight.compute_class_weight(\n",
    "    class_weight='balanced',\n",
    "    classes=np.unique(train_labels_np),\n",
    "    y=train_labels_np\n",
    ")\n",
    "\n",
    "# Convert to dictionary form\n",
    "class_weights_dict = {i: weight for i, weight in enumerate(class_weights)}\n",
    "print(\"Class Weights:\", class_weights_dict)\n",
    "\n",
    "# Define the model\n",
    "model = keras.Sequential([\n",
    "    keras.layers.Dense(64, activation='relu', input_shape=(train_data.shape[1],)),\n",
    "    keras.layers.Dense(32, activation='relu'),\n",
    "    keras.layers.Dense(1, activation='sigmoid')\n",
    "])\n",
    "\n",
    "# Compile the model\n",
    "model.compile(optimizer='adam',\n",
    "              loss='binary_crossentropy',\n",
    "              metrics=['accuracy'])\n",
    "\n",
    "# Train the model\n",
    "history = model.fit(train_data, train_labels, epochs=50,\n",
    "                    validation_data=(val_data, val_labels),class_weight=class_weights_dict)\n",
    "\n",
    "# Evaluate the model\n",
    "test_loss, test_acc = model.evaluate(val_data, val_labels)\n",
    "\n",
    "print('Test accuracy:', test_acc)\n"
   ]
  },
  {
   "cell_type": "code",
   "execution_count": null,
   "id": "6749d3ac",
   "metadata": {},
   "outputs": [
    {
     "name": "stdout",
     "output_type": "stream",
     "text": [
      "87/87 [==============================] - 0s 3ms/step - loss: 0.2262 - accuracy: 0.9197\n",
      "Test accuracy: 0.9196816086769104\n"
     ]
    }
   ],
   "source": [
    "# Evaluate the model\n",
    "test_loss, test_acc = model.evaluate(val_data, val_labels)\n",
    "print('Test accuracy:', test_acc)"
   ]
  },
  {
   "cell_type": "code",
   "execution_count": null,
   "id": "0b57c218",
   "metadata": {},
   "outputs": [
    {
     "name": "stdout",
     "output_type": "stream",
     "text": [
      "87/87 [==============================] - 1s 3ms/step\n",
      "[[ 414    0]\n",
      " [ 222 2128]]\n",
      "              precision    recall  f1-score   support\n",
      "\n",
      "           0       0.65      1.00      0.79       414\n",
      "           1       1.00      0.91      0.95      2350\n",
      "\n",
      "    accuracy                           0.92      2764\n",
      "   macro avg       0.83      0.95      0.87      2764\n",
      "weighted avg       0.95      0.92      0.93      2764\n",
      "\n"
     ]
    }
   ],
   "source": [
    "from sklearn.metrics import classification_report, confusion_matrix\n",
    "\n",
    "preds = (model.predict(val_data) > 0.5).astype(int)\n",
    "print(confusion_matrix(val_labels, preds))\n",
    "print(classification_report(val_labels, preds))"
   ]
  },
  {
   "cell_type": "markdown",
   "id": "0b78b87d",
   "metadata": {},
   "source": [
    "#### These scores seems good to be deploy, so it will be converted into a TFLite model"
   ]
  },
  {
   "cell_type": "markdown",
   "id": "0ab06920",
   "metadata": {},
   "source": [
    "### Converting this model to TFLite Model"
   ]
  },
  {
   "cell_type": "code",
   "execution_count": 8,
   "id": "b1622124",
   "metadata": {},
   "outputs": [
    {
     "name": "stdout",
     "output_type": "stream",
     "text": [
      "INFO:tensorflow:Assets written to: C:\\Users\\SANDIN~1\\AppData\\Local\\Temp\\tmps48pi9a1\\assets\n"
     ]
    }
   ],
   "source": [
    "converter = tf.lite.TFLiteConverter.from_keras_model(model)\n",
    "converter.optimizations = [tf.lite.Optimize.DEFAULT]\n",
    "converter.target_spec.supported_ops = [tf.lite.OpsSet.TFLITE_BUILTINS]  # <-- ensure Pi compatibility\n",
    "tflite_model = converter.convert()\n",
    "\n",
    "with open('Models/CVD_Classification_Model.tflite', 'wb') as f:\n",
    "    f.write(tflite_model)"
   ]
  }
 ],
 "metadata": {
  "kernelspec": {
   "display_name": "py310",
   "language": "python",
   "name": "python3"
  },
  "language_info": {
   "codemirror_mode": {
    "name": "ipython",
    "version": 3
   },
   "file_extension": ".py",
   "mimetype": "text/x-python",
   "name": "python",
   "nbconvert_exporter": "python",
   "pygments_lexer": "ipython3",
   "version": "3.10.14"
  }
 },
 "nbformat": 4,
 "nbformat_minor": 5
}
