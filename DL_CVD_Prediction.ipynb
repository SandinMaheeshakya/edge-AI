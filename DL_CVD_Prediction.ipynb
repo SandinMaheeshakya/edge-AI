{
 "cells": [
  {
   "cell_type": "code",
   "execution_count": 1,
   "id": "31ffee10",
   "metadata": {},
   "outputs": [],
   "source": [
    "import pandas as pd\n",
    "import tensorflow as tf\n",
    "from sklearn.preprocessing import StandardScaler\n",
    "from tensorflow import keras\n",
    "from tensorflow.keras import layers, regularizers"
   ]
  },
  {
   "cell_type": "markdown",
   "id": "2151d51d",
   "metadata": {},
   "source": [
    "### Loading the Data"
   ]
  },
  {
   "cell_type": "code",
   "execution_count": 2,
   "id": "0aa8be21",
   "metadata": {},
   "outputs": [
    {
     "data": {
      "application/vnd.microsoft.datawrangler.viewer.v0+json": {
       "columns": [
        {
         "name": "index",
         "rawType": "int64",
         "type": "integer"
        },
        {
         "name": "heart_rate",
         "rawType": "float64",
         "type": "float"
        },
        {
         "name": "oxygen_saturation",
         "rawType": "float64",
         "type": "float"
        },
        {
         "name": "respiratory_rate",
         "rawType": "float64",
         "type": "float"
        },
        {
         "name": "temperature",
         "rawType": "float64",
         "type": "float"
        },
        {
         "name": "Label",
         "rawType": "int64",
         "type": "integer"
        }
       ],
       "conversionMethod": "pd.DataFrame",
       "ref": "6657ee05-4f89-4cea-b872-55f74cac5f78",
       "rows": [
        [
         "0",
         "93.0",
         "98.0",
         "39.0",
         "36.0",
         "1"
        ],
        [
         "1",
         "97.0",
         "98.0",
         "16.0",
         "36.5",
         "0"
        ],
        [
         "2",
         "82.0",
         "97.0",
         "25.0",
         "36.3",
         "1"
        ],
        [
         "3",
         "98.0",
         "96.0",
         "16.0",
         "36.5",
         "1"
        ],
        [
         "4",
         "98.0",
         "99.0",
         "28.0",
         "37.2",
         "1"
        ]
       ],
       "shape": {
        "columns": 5,
        "rows": 5
       }
      },
      "text/html": [
       "<div>\n",
       "<style scoped>\n",
       "    .dataframe tbody tr th:only-of-type {\n",
       "        vertical-align: middle;\n",
       "    }\n",
       "\n",
       "    .dataframe tbody tr th {\n",
       "        vertical-align: top;\n",
       "    }\n",
       "\n",
       "    .dataframe thead th {\n",
       "        text-align: right;\n",
       "    }\n",
       "</style>\n",
       "<table border=\"1\" class=\"dataframe\">\n",
       "  <thead>\n",
       "    <tr style=\"text-align: right;\">\n",
       "      <th></th>\n",
       "      <th>heart_rate</th>\n",
       "      <th>oxygen_saturation</th>\n",
       "      <th>respiratory_rate</th>\n",
       "      <th>temperature</th>\n",
       "      <th>Label</th>\n",
       "    </tr>\n",
       "  </thead>\n",
       "  <tbody>\n",
       "    <tr>\n",
       "      <th>0</th>\n",
       "      <td>93.0</td>\n",
       "      <td>98.0</td>\n",
       "      <td>39.0</td>\n",
       "      <td>36.0</td>\n",
       "      <td>1</td>\n",
       "    </tr>\n",
       "    <tr>\n",
       "      <th>1</th>\n",
       "      <td>97.0</td>\n",
       "      <td>98.0</td>\n",
       "      <td>16.0</td>\n",
       "      <td>36.5</td>\n",
       "      <td>0</td>\n",
       "    </tr>\n",
       "    <tr>\n",
       "      <th>2</th>\n",
       "      <td>82.0</td>\n",
       "      <td>97.0</td>\n",
       "      <td>25.0</td>\n",
       "      <td>36.3</td>\n",
       "      <td>1</td>\n",
       "    </tr>\n",
       "    <tr>\n",
       "      <th>3</th>\n",
       "      <td>98.0</td>\n",
       "      <td>96.0</td>\n",
       "      <td>16.0</td>\n",
       "      <td>36.5</td>\n",
       "      <td>1</td>\n",
       "    </tr>\n",
       "    <tr>\n",
       "      <th>4</th>\n",
       "      <td>98.0</td>\n",
       "      <td>99.0</td>\n",
       "      <td>28.0</td>\n",
       "      <td>37.2</td>\n",
       "      <td>1</td>\n",
       "    </tr>\n",
       "  </tbody>\n",
       "</table>\n",
       "</div>"
      ],
      "text/plain": [
       "   heart_rate  oxygen_saturation  respiratory_rate  temperature  Label\n",
       "0        93.0               98.0              39.0         36.0      1\n",
       "1        97.0               98.0              16.0         36.5      0\n",
       "2        82.0               97.0              25.0         36.3      1\n",
       "3        98.0               96.0              16.0         36.5      1\n",
       "4        98.0               99.0              28.0         37.2      1"
      ]
     },
     "execution_count": 2,
     "metadata": {},
     "output_type": "execute_result"
    }
   ],
   "source": [
    "cvd_data = pd.read_csv(r\"Datasets\\Analyzed\\Analyzed_CVD_Prediction.csv\")\n",
    "cvd_data.head()"
   ]
  },
  {
   "cell_type": "markdown",
   "id": "21cbf184",
   "metadata": {},
   "source": [
    "# Training a DL Model using Keras with 2 Layers"
   ]
  },
  {
   "cell_type": "code",
   "execution_count": 3,
   "id": "eba2d143",
   "metadata": {},
   "outputs": [
    {
     "name": "stdout",
     "output_type": "stream",
     "text": [
      "Epoch 1/50\n",
      "346/346 [==============================] - 6s 5ms/step - loss: 0.2841 - accuracy: 0.8521 - val_loss: 0.2059 - val_accuracy: 0.8618\n",
      "Epoch 2/50\n",
      "346/346 [==============================] - 1s 4ms/step - loss: 0.1954 - accuracy: 0.8819 - val_loss: 0.1817 - val_accuracy: 0.8875\n",
      "Epoch 3/50\n",
      "346/346 [==============================] - 1s 4ms/step - loss: 0.1758 - accuracy: 0.9024 - val_loss: 0.1665 - val_accuracy: 0.9121\n",
      "Epoch 4/50\n",
      "346/346 [==============================] - 1s 4ms/step - loss: 0.1630 - accuracy: 0.9174 - val_loss: 0.1605 - val_accuracy: 0.9269\n",
      "Epoch 5/50\n",
      "346/346 [==============================] - 1s 4ms/step - loss: 0.1565 - accuracy: 0.9219 - val_loss: 0.1572 - val_accuracy: 0.9092\n",
      "Epoch 6/50\n",
      "346/346 [==============================] - 1s 4ms/step - loss: 0.1510 - accuracy: 0.9257 - val_loss: 0.1520 - val_accuracy: 0.9219\n",
      "Epoch 7/50\n",
      "346/346 [==============================] - 1s 4ms/step - loss: 0.1477 - accuracy: 0.9267 - val_loss: 0.1435 - val_accuracy: 0.9331\n",
      "Epoch 8/50\n",
      "346/346 [==============================] - 2s 5ms/step - loss: 0.1452 - accuracy: 0.9286 - val_loss: 0.1416 - val_accuracy: 0.9316\n",
      "Epoch 9/50\n",
      "346/346 [==============================] - 1s 4ms/step - loss: 0.1436 - accuracy: 0.9291 - val_loss: 0.1406 - val_accuracy: 0.9316\n",
      "Epoch 10/50\n",
      "346/346 [==============================] - 1s 4ms/step - loss: 0.1413 - accuracy: 0.9315 - val_loss: 0.1381 - val_accuracy: 0.9363\n",
      "Epoch 11/50\n",
      "346/346 [==============================] - 1s 4ms/step - loss: 0.1404 - accuracy: 0.9317 - val_loss: 0.1372 - val_accuracy: 0.9345\n",
      "Epoch 12/50\n",
      "346/346 [==============================] - 1s 3ms/step - loss: 0.1389 - accuracy: 0.9323 - val_loss: 0.1371 - val_accuracy: 0.9345\n",
      "Epoch 13/50\n",
      "346/346 [==============================] - 1s 3ms/step - loss: 0.1379 - accuracy: 0.9342 - val_loss: 0.1374 - val_accuracy: 0.9352\n",
      "Epoch 14/50\n",
      "346/346 [==============================] - 1s 3ms/step - loss: 0.1370 - accuracy: 0.9344 - val_loss: 0.1336 - val_accuracy: 0.9385\n",
      "Epoch 15/50\n",
      "346/346 [==============================] - 1s 3ms/step - loss: 0.1353 - accuracy: 0.9349 - val_loss: 0.1339 - val_accuracy: 0.9370\n",
      "Epoch 16/50\n",
      "346/346 [==============================] - 1s 4ms/step - loss: 0.1347 - accuracy: 0.9352 - val_loss: 0.1330 - val_accuracy: 0.9414\n",
      "Epoch 17/50\n",
      "346/346 [==============================] - 1s 3ms/step - loss: 0.1337 - accuracy: 0.9354 - val_loss: 0.1303 - val_accuracy: 0.9407\n",
      "Epoch 18/50\n",
      "346/346 [==============================] - 1s 3ms/step - loss: 0.1328 - accuracy: 0.9369 - val_loss: 0.1325 - val_accuracy: 0.9363\n",
      "Epoch 19/50\n",
      "346/346 [==============================] - 1s 4ms/step - loss: 0.1319 - accuracy: 0.9377 - val_loss: 0.1308 - val_accuracy: 0.9425\n",
      "Epoch 20/50\n",
      "346/346 [==============================] - 1s 3ms/step - loss: 0.1316 - accuracy: 0.9386 - val_loss: 0.1275 - val_accuracy: 0.9418\n",
      "Epoch 21/50\n",
      "346/346 [==============================] - 1s 3ms/step - loss: 0.1306 - accuracy: 0.9381 - val_loss: 0.1300 - val_accuracy: 0.9407\n",
      "Epoch 22/50\n",
      "346/346 [==============================] - 1s 3ms/step - loss: 0.1301 - accuracy: 0.9389 - val_loss: 0.1281 - val_accuracy: 0.9436\n",
      "Epoch 23/50\n",
      "346/346 [==============================] - 1s 3ms/step - loss: 0.1293 - accuracy: 0.9386 - val_loss: 0.1296 - val_accuracy: 0.9392\n",
      "Epoch 24/50\n",
      "346/346 [==============================] - 1s 3ms/step - loss: 0.1299 - accuracy: 0.9387 - val_loss: 0.1267 - val_accuracy: 0.9432\n",
      "Epoch 25/50\n",
      "346/346 [==============================] - 1s 3ms/step - loss: 0.1291 - accuracy: 0.9389 - val_loss: 0.1277 - val_accuracy: 0.9410\n",
      "Epoch 26/50\n",
      "346/346 [==============================] - 1s 3ms/step - loss: 0.1281 - accuracy: 0.9398 - val_loss: 0.1262 - val_accuracy: 0.9436\n",
      "Epoch 27/50\n",
      "346/346 [==============================] - 1s 3ms/step - loss: 0.1282 - accuracy: 0.9391 - val_loss: 0.1259 - val_accuracy: 0.9418\n",
      "Epoch 28/50\n",
      "346/346 [==============================] - 1s 3ms/step - loss: 0.1275 - accuracy: 0.9408 - val_loss: 0.1253 - val_accuracy: 0.9446\n",
      "Epoch 29/50\n",
      "346/346 [==============================] - 1s 3ms/step - loss: 0.1275 - accuracy: 0.9405 - val_loss: 0.1249 - val_accuracy: 0.9439\n",
      "Epoch 30/50\n",
      "346/346 [==============================] - 1s 3ms/step - loss: 0.1269 - accuracy: 0.9400 - val_loss: 0.1275 - val_accuracy: 0.9410\n",
      "Epoch 31/50\n",
      "346/346 [==============================] - 1s 3ms/step - loss: 0.1266 - accuracy: 0.9402 - val_loss: 0.1257 - val_accuracy: 0.9439\n",
      "Epoch 32/50\n",
      "346/346 [==============================] - 1s 3ms/step - loss: 0.1260 - accuracy: 0.9410 - val_loss: 0.1249 - val_accuracy: 0.9410\n",
      "Epoch 33/50\n",
      "346/346 [==============================] - 1s 3ms/step - loss: 0.1264 - accuracy: 0.9403 - val_loss: 0.1247 - val_accuracy: 0.9443\n",
      "Epoch 34/50\n",
      "346/346 [==============================] - 1s 3ms/step - loss: 0.1255 - accuracy: 0.9414 - val_loss: 0.1236 - val_accuracy: 0.9443\n",
      "Epoch 35/50\n",
      "346/346 [==============================] - 1s 3ms/step - loss: 0.1253 - accuracy: 0.9411 - val_loss: 0.1285 - val_accuracy: 0.9374\n",
      "Epoch 36/50\n",
      "346/346 [==============================] - 1s 3ms/step - loss: 0.1266 - accuracy: 0.9400 - val_loss: 0.1243 - val_accuracy: 0.9443\n",
      "Epoch 37/50\n",
      "346/346 [==============================] - 1s 3ms/step - loss: 0.1248 - accuracy: 0.9418 - val_loss: 0.1235 - val_accuracy: 0.9443\n",
      "Epoch 38/50\n",
      "346/346 [==============================] - 1s 3ms/step - loss: 0.1247 - accuracy: 0.9411 - val_loss: 0.1235 - val_accuracy: 0.9454\n",
      "Epoch 39/50\n",
      "346/346 [==============================] - 1s 3ms/step - loss: 0.1250 - accuracy: 0.9414 - val_loss: 0.1242 - val_accuracy: 0.9436\n",
      "Epoch 40/50\n",
      "346/346 [==============================] - 1s 3ms/step - loss: 0.1242 - accuracy: 0.9417 - val_loss: 0.1243 - val_accuracy: 0.9432\n",
      "Epoch 41/50\n",
      "346/346 [==============================] - 1s 3ms/step - loss: 0.1246 - accuracy: 0.9411 - val_loss: 0.1224 - val_accuracy: 0.9450\n",
      "Epoch 42/50\n",
      "346/346 [==============================] - 1s 4ms/step - loss: 0.1244 - accuracy: 0.9412 - val_loss: 0.1218 - val_accuracy: 0.9461\n",
      "Epoch 43/50\n",
      "346/346 [==============================] - 1s 3ms/step - loss: 0.1244 - accuracy: 0.9415 - val_loss: 0.1224 - val_accuracy: 0.9475\n",
      "Epoch 44/50\n",
      "346/346 [==============================] - 1s 3ms/step - loss: 0.1242 - accuracy: 0.9412 - val_loss: 0.1221 - val_accuracy: 0.9465\n",
      "Epoch 45/50\n",
      "346/346 [==============================] - 1s 3ms/step - loss: 0.1238 - accuracy: 0.9409 - val_loss: 0.1226 - val_accuracy: 0.9450\n",
      "Epoch 46/50\n",
      "346/346 [==============================] - 1s 3ms/step - loss: 0.1233 - accuracy: 0.9417 - val_loss: 0.1223 - val_accuracy: 0.9443\n",
      "Epoch 47/50\n",
      "346/346 [==============================] - 1s 3ms/step - loss: 0.1234 - accuracy: 0.9412 - val_loss: 0.1213 - val_accuracy: 0.9457\n",
      "Epoch 48/50\n",
      "346/346 [==============================] - 1s 3ms/step - loss: 0.1236 - accuracy: 0.9416 - val_loss: 0.1215 - val_accuracy: 0.9465\n",
      "Epoch 49/50\n",
      "346/346 [==============================] - 1s 3ms/step - loss: 0.1252 - accuracy: 0.9406 - val_loss: 0.1271 - val_accuracy: 0.9396\n",
      "Epoch 50/50\n",
      "346/346 [==============================] - 1s 3ms/step - loss: 0.1236 - accuracy: 0.9413 - val_loss: 0.1223 - val_accuracy: 0.9439\n",
      "87/87 [==============================] - 0s 2ms/step - loss: 0.1223 - accuracy: 0.9439\n",
      "Test accuracy: 0.9439218640327454\n"
     ]
    }
   ],
   "source": [
    "# Split the data into training and validation sets\n",
    "train_data = cvd_data.sample(frac=0.8, random_state=0)\n",
    "val_data = cvd_data.drop(train_data.index)\n",
    "\n",
    "# Preprocess the data\n",
    "train_labels = train_data.pop('Label')\n",
    "val_labels = val_data.pop('Label')\n",
    "\n",
    "scaler = StandardScaler()\n",
    "train_data = scaler.fit_transform(train_data)\n",
    "val_data = scaler.transform(val_data)\n",
    "\n",
    "# Define the model\n",
    "model = keras.Sequential([\n",
    "    keras.layers.Dense(64, activation='relu', input_shape=(train_data.shape[1],)),\n",
    "    keras.layers.Dense(32, activation='relu'),\n",
    "    keras.layers.Dense(1, activation='sigmoid')\n",
    "])\n",
    "\n",
    "# Compile the model\n",
    "model.compile(optimizer='adam',\n",
    "              loss='binary_crossentropy',\n",
    "              metrics=['accuracy'])\n",
    "\n",
    "# Train the model\n",
    "history = model.fit(train_data, train_labels, epochs=50,\n",
    "                    validation_data=(val_data, val_labels))\n",
    "\n",
    "# Evaluate the model\n",
    "test_loss, test_acc = model.evaluate(val_data, val_labels)\n",
    "\n",
    "print('Test accuracy:', test_acc)\n"
   ]
  },
  {
   "cell_type": "markdown",
   "id": "0b78b87d",
   "metadata": {},
   "source": [
    "#### These scores seems good to be deploy, so it will be converted into a TFLite model"
   ]
  },
  {
   "cell_type": "markdown",
   "id": "0ab06920",
   "metadata": {},
   "source": [
    "### Converting this model to TFLite Model"
   ]
  },
  {
   "cell_type": "code",
   "execution_count": 4,
   "id": "b1622124",
   "metadata": {},
   "outputs": [
    {
     "name": "stdout",
     "output_type": "stream",
     "text": [
      "INFO:tensorflow:Assets written to: C:\\Users\\SANDIN~1\\AppData\\Local\\Temp\\tmpuh7keft9\\assets\n"
     ]
    }
   ],
   "source": [
    "converter = tf.lite.TFLiteConverter.from_keras_model(model)\n",
    "converter.optimizations = [tf.lite.Optimize.DEFAULT]\n",
    "converter.target_spec.supported_ops = [tf.lite.OpsSet.TFLITE_BUILTINS]  # <-- ensure Pi compatibility\n",
    "tflite_model = converter.convert()\n",
    "\n",
    "with open('Models/CVD_Classification_Model.tflite', 'wb') as f:\n",
    "    f.write(tflite_model)"
   ]
  }
 ],
 "metadata": {
  "kernelspec": {
   "display_name": "py310",
   "language": "python",
   "name": "python3"
  },
  "language_info": {
   "codemirror_mode": {
    "name": "ipython",
    "version": 3
   },
   "file_extension": ".py",
   "mimetype": "text/x-python",
   "name": "python",
   "nbconvert_exporter": "python",
   "pygments_lexer": "ipython3",
   "version": "3.10.14"
  }
 },
 "nbformat": 4,
 "nbformat_minor": 5
}
